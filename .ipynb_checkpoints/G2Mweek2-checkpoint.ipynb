{
 "cells": [
  {
   "cell_type": "code",
   "execution_count": 1,
   "metadata": {},
   "outputs": [],
   "source": [
    "import pandas as pd\n",
    "import numpy as np"
   ]
  },
  {
   "cell_type": "markdown",
   "metadata": {},
   "source": [
    "## DATA CLEANING"
   ]
  },
  {
   "cell_type": "markdown",
   "metadata": {},
   "source": [
    "### Cab Data\n"
   ]
  },
  {
   "cell_type": "code",
   "execution_count": 2,
   "metadata": {},
   "outputs": [
    {
     "data": {
      "text/html": [
       "<div>\n",
       "<style scoped>\n",
       "    .dataframe tbody tr th:only-of-type {\n",
       "        vertical-align: middle;\n",
       "    }\n",
       "\n",
       "    .dataframe tbody tr th {\n",
       "        vertical-align: top;\n",
       "    }\n",
       "\n",
       "    .dataframe thead th {\n",
       "        text-align: right;\n",
       "    }\n",
       "</style>\n",
       "<table border=\"1\" class=\"dataframe\">\n",
       "  <thead>\n",
       "    <tr style=\"text-align: right;\">\n",
       "      <th></th>\n",
       "      <th>Transaction ID</th>\n",
       "      <th>Date of Travel</th>\n",
       "      <th>Company</th>\n",
       "      <th>City</th>\n",
       "      <th>KM Travelled</th>\n",
       "      <th>Price Charged</th>\n",
       "      <th>Cost of Trip</th>\n",
       "    </tr>\n",
       "  </thead>\n",
       "  <tbody>\n",
       "    <tr>\n",
       "      <th>0</th>\n",
       "      <td>10000011</td>\n",
       "      <td>42377</td>\n",
       "      <td>Pink Cab</td>\n",
       "      <td>ATLANTA GA</td>\n",
       "      <td>30.45</td>\n",
       "      <td>370.95</td>\n",
       "      <td>313.635</td>\n",
       "    </tr>\n",
       "    <tr>\n",
       "      <th>1</th>\n",
       "      <td>10000012</td>\n",
       "      <td>42375</td>\n",
       "      <td>Pink Cab</td>\n",
       "      <td>ATLANTA GA</td>\n",
       "      <td>28.62</td>\n",
       "      <td>358.52</td>\n",
       "      <td>334.854</td>\n",
       "    </tr>\n",
       "    <tr>\n",
       "      <th>2</th>\n",
       "      <td>10000013</td>\n",
       "      <td>42371</td>\n",
       "      <td>Pink Cab</td>\n",
       "      <td>ATLANTA GA</td>\n",
       "      <td>9.04</td>\n",
       "      <td>125.20</td>\n",
       "      <td>97.632</td>\n",
       "    </tr>\n",
       "    <tr>\n",
       "      <th>3</th>\n",
       "      <td>10000014</td>\n",
       "      <td>42376</td>\n",
       "      <td>Pink Cab</td>\n",
       "      <td>ATLANTA GA</td>\n",
       "      <td>33.17</td>\n",
       "      <td>377.40</td>\n",
       "      <td>351.602</td>\n",
       "    </tr>\n",
       "    <tr>\n",
       "      <th>4</th>\n",
       "      <td>10000015</td>\n",
       "      <td>42372</td>\n",
       "      <td>Pink Cab</td>\n",
       "      <td>ATLANTA GA</td>\n",
       "      <td>8.73</td>\n",
       "      <td>114.62</td>\n",
       "      <td>97.776</td>\n",
       "    </tr>\n",
       "    <tr>\n",
       "      <th>5</th>\n",
       "      <td>10000016</td>\n",
       "      <td>42376</td>\n",
       "      <td>Pink Cab</td>\n",
       "      <td>ATLANTA GA</td>\n",
       "      <td>6.06</td>\n",
       "      <td>72.43</td>\n",
       "      <td>63.024</td>\n",
       "    </tr>\n",
       "    <tr>\n",
       "      <th>6</th>\n",
       "      <td>10000017</td>\n",
       "      <td>42372</td>\n",
       "      <td>Pink Cab</td>\n",
       "      <td>AUSTIN TX</td>\n",
       "      <td>44.00</td>\n",
       "      <td>576.15</td>\n",
       "      <td>475.200</td>\n",
       "    </tr>\n",
       "    <tr>\n",
       "      <th>7</th>\n",
       "      <td>10000018</td>\n",
       "      <td>42376</td>\n",
       "      <td>Pink Cab</td>\n",
       "      <td>AUSTIN TX</td>\n",
       "      <td>35.65</td>\n",
       "      <td>466.10</td>\n",
       "      <td>377.890</td>\n",
       "    </tr>\n",
       "    <tr>\n",
       "      <th>8</th>\n",
       "      <td>10000019</td>\n",
       "      <td>42381</td>\n",
       "      <td>Pink Cab</td>\n",
       "      <td>BOSTON MA</td>\n",
       "      <td>14.40</td>\n",
       "      <td>191.61</td>\n",
       "      <td>146.880</td>\n",
       "    </tr>\n",
       "    <tr>\n",
       "      <th>9</th>\n",
       "      <td>10000020</td>\n",
       "      <td>42375</td>\n",
       "      <td>Pink Cab</td>\n",
       "      <td>BOSTON MA</td>\n",
       "      <td>10.89</td>\n",
       "      <td>156.98</td>\n",
       "      <td>113.256</td>\n",
       "    </tr>\n",
       "  </tbody>\n",
       "</table>\n",
       "</div>"
      ],
      "text/plain": [
       "   Transaction ID  Date of Travel   Company        City  KM Travelled  \\\n",
       "0        10000011           42377  Pink Cab  ATLANTA GA         30.45   \n",
       "1        10000012           42375  Pink Cab  ATLANTA GA         28.62   \n",
       "2        10000013           42371  Pink Cab  ATLANTA GA          9.04   \n",
       "3        10000014           42376  Pink Cab  ATLANTA GA         33.17   \n",
       "4        10000015           42372  Pink Cab  ATLANTA GA          8.73   \n",
       "5        10000016           42376  Pink Cab  ATLANTA GA          6.06   \n",
       "6        10000017           42372  Pink Cab   AUSTIN TX         44.00   \n",
       "7        10000018           42376  Pink Cab   AUSTIN TX         35.65   \n",
       "8        10000019           42381  Pink Cab   BOSTON MA         14.40   \n",
       "9        10000020           42375  Pink Cab   BOSTON MA         10.89   \n",
       "\n",
       "   Price Charged  Cost of Trip  \n",
       "0         370.95       313.635  \n",
       "1         358.52       334.854  \n",
       "2         125.20        97.632  \n",
       "3         377.40       351.602  \n",
       "4         114.62        97.776  \n",
       "5          72.43        63.024  \n",
       "6         576.15       475.200  \n",
       "7         466.10       377.890  \n",
       "8         191.61       146.880  \n",
       "9         156.98       113.256  "
      ]
     },
     "execution_count": 2,
     "metadata": {},
     "output_type": "execute_result"
    }
   ],
   "source": [
    "CabData=pd.read_csv('/home/miano/Documents/DataGlacier/week2/DataSets/Cab_Data.csv')\n",
    "CabData.head(10)"
   ]
  },
  {
   "cell_type": "code",
   "execution_count": 3,
   "metadata": {},
   "outputs": [
    {
     "data": {
      "text/plain": [
       "(359392, 7)"
      ]
     },
     "execution_count": 3,
     "metadata": {},
     "output_type": "execute_result"
    }
   ],
   "source": [
    "CabData.shape"
   ]
  },
  {
   "cell_type": "code",
   "execution_count": 4,
   "metadata": {},
   "outputs": [
    {
     "data": {
      "text/plain": [
       "Transaction ID      int64\n",
       "Date of Travel      int64\n",
       "Company            object\n",
       "City               object\n",
       "KM Travelled      float64\n",
       "Price Charged     float64\n",
       "Cost of Trip      float64\n",
       "dtype: object"
      ]
     },
     "execution_count": 4,
     "metadata": {},
     "output_type": "execute_result"
    }
   ],
   "source": [
    "CabData.dtypes"
   ]
  },
  {
   "cell_type": "code",
   "execution_count": 5,
   "metadata": {},
   "outputs": [
    {
     "name": "stdout",
     "output_type": "stream",
     "text": [
      "<class 'pandas.core.frame.DataFrame'>\n",
      "RangeIndex: 359392 entries, 0 to 359391\n",
      "Data columns (total 7 columns):\n",
      "Transaction ID    359392 non-null int64\n",
      "Date of Travel    359392 non-null int64\n",
      "Company           359392 non-null object\n",
      "City              359392 non-null object\n",
      "KM Travelled      359392 non-null float64\n",
      "Price Charged     359392 non-null float64\n",
      "Cost of Trip      359392 non-null float64\n",
      "dtypes: float64(3), int64(2), object(2)\n",
      "memory usage: 19.2+ MB\n"
     ]
    }
   ],
   "source": [
    "CabData.info()"
   ]
  },
  {
   "cell_type": "code",
   "execution_count": 6,
   "metadata": {},
   "outputs": [
    {
     "data": {
      "text/plain": [
       "Transaction ID    0\n",
       "Date of Travel    0\n",
       "Company           0\n",
       "City              0\n",
       "KM Travelled      0\n",
       "Price Charged     0\n",
       "Cost of Trip      0\n",
       "dtype: int64"
      ]
     },
     "execution_count": 6,
     "metadata": {},
     "output_type": "execute_result"
    }
   ],
   "source": [
    "CabData.isnull().sum()"
   ]
  },
  {
   "cell_type": "markdown",
   "metadata": {},
   "source": [
    "There are no missing values in the dataset. The dataset has 7 columns and 359392 rows. However, the dataset has some changes to be made:\n",
    "\n",
    "1. Data type:\n",
    "\n",
    "    a) Transaction ID is not supposed to be an integer, should be float type\n",
    "    \n",
    "    b) Date of Travel is supposed to be a date, not integer values"
   ]
  },
  {
   "cell_type": "code",
   "execution_count": 7,
   "metadata": {},
   "outputs": [
    {
     "data": {
      "text/plain": [
       "dtype('O')"
      ]
     },
     "execution_count": 7,
     "metadata": {},
     "output_type": "execute_result"
    }
   ],
   "source": [
    "#Convert transactions ID to float type\n",
    "CabData['Transaction ID']=CabData['Transaction ID'].astype(object)\n",
    "CabData['Transaction ID'].dtype"
   ]
  },
  {
   "cell_type": "code",
   "execution_count": 8,
   "metadata": {},
   "outputs": [
    {
     "data": {
      "text/plain": [
       "0"
      ]
     },
     "execution_count": 8,
     "metadata": {},
     "output_type": "execute_result"
    }
   ],
   "source": [
    "#Check for any duplicated values\n",
    "CabData['Transaction ID'].duplicated().sum()\n",
    "\n",
    "#There are no duplicated transactions"
   ]
  },
  {
   "cell_type": "code",
   "execution_count": null,
   "metadata": {},
   "outputs": [],
   "source": []
  },
  {
   "cell_type": "code",
   "execution_count": null,
   "metadata": {},
   "outputs": [],
   "source": []
  },
  {
   "cell_type": "markdown",
   "metadata": {},
   "source": [
    "#### Categorical Data"
   ]
  },
  {
   "cell_type": "code",
   "execution_count": 9,
   "metadata": {},
   "outputs": [
    {
     "data": {
      "text/plain": [
       "Yellow Cab    274681\n",
       "Pink Cab       84711\n",
       "Name: Company, dtype: int64"
      ]
     },
     "execution_count": 9,
     "metadata": {},
     "output_type": "execute_result"
    }
   ],
   "source": [
    "CabData['Company'].value_counts()"
   ]
  },
  {
   "cell_type": "code",
   "execution_count": 10,
   "metadata": {},
   "outputs": [
    {
     "data": {
      "text/plain": [
       "NEW YORK NY       99885\n",
       "CHICAGO IL        56625\n",
       "LOS ANGELES CA    48033\n",
       "WASHINGTON DC     43737\n",
       "BOSTON MA         29692\n",
       "SAN DIEGO CA      20488\n",
       "SILICON VALLEY     8519\n",
       "SEATTLE WA         7997\n",
       "ATLANTA GA         7557\n",
       "DALLAS TX          7017\n",
       "MIAMI FL           6454\n",
       "AUSTIN TX          4896\n",
       "ORANGE COUNTY      3982\n",
       "DENVER CO          3825\n",
       "NASHVILLE TN       3010\n",
       "SACRAMENTO CA      2367\n",
       "PHOENIX AZ         2064\n",
       "TUCSON AZ          1931\n",
       "PITTSBURGH PA      1313\n",
       "Name: City, dtype: int64"
      ]
     },
     "execution_count": 10,
     "metadata": {},
     "output_type": "execute_result"
    }
   ],
   "source": [
    "CabData['City'].value_counts()"
   ]
  },
  {
   "cell_type": "code",
   "execution_count": 11,
   "metadata": {},
   "outputs": [
    {
     "data": {
      "text/plain": [
       "19"
      ]
     },
     "execution_count": 11,
     "metadata": {},
     "output_type": "execute_result"
    }
   ],
   "source": [
    "CabData['City'].value_counts().count()"
   ]
  },
  {
   "cell_type": "markdown",
   "metadata": {},
   "source": [
    "There are 2 companies: Yellow cab and pink cab. \n",
    "The two companies operate in 19 cities"
   ]
  },
  {
   "cell_type": "markdown",
   "metadata": {},
   "source": [
    "#### Numerical Data"
   ]
  },
  {
   "cell_type": "code",
   "execution_count": null,
   "metadata": {},
   "outputs": [],
   "source": []
  },
  {
   "cell_type": "markdown",
   "metadata": {},
   "source": [
    "### City Data"
   ]
  },
  {
   "cell_type": "code",
   "execution_count": 12,
   "metadata": {},
   "outputs": [
    {
     "data": {
      "text/html": [
       "<div>\n",
       "<style scoped>\n",
       "    .dataframe tbody tr th:only-of-type {\n",
       "        vertical-align: middle;\n",
       "    }\n",
       "\n",
       "    .dataframe tbody tr th {\n",
       "        vertical-align: top;\n",
       "    }\n",
       "\n",
       "    .dataframe thead th {\n",
       "        text-align: right;\n",
       "    }\n",
       "</style>\n",
       "<table border=\"1\" class=\"dataframe\">\n",
       "  <thead>\n",
       "    <tr style=\"text-align: right;\">\n",
       "      <th></th>\n",
       "      <th>City</th>\n",
       "      <th>Population</th>\n",
       "      <th>Users</th>\n",
       "    </tr>\n",
       "  </thead>\n",
       "  <tbody>\n",
       "    <tr>\n",
       "      <th>0</th>\n",
       "      <td>NEW YORK NY</td>\n",
       "      <td>8,405,837</td>\n",
       "      <td>302,149</td>\n",
       "    </tr>\n",
       "    <tr>\n",
       "      <th>1</th>\n",
       "      <td>CHICAGO IL</td>\n",
       "      <td>1,955,130</td>\n",
       "      <td>164,468</td>\n",
       "    </tr>\n",
       "    <tr>\n",
       "      <th>2</th>\n",
       "      <td>LOS ANGELES CA</td>\n",
       "      <td>1,595,037</td>\n",
       "      <td>144,132</td>\n",
       "    </tr>\n",
       "    <tr>\n",
       "      <th>3</th>\n",
       "      <td>MIAMI FL</td>\n",
       "      <td>1,339,155</td>\n",
       "      <td>17,675</td>\n",
       "    </tr>\n",
       "    <tr>\n",
       "      <th>4</th>\n",
       "      <td>SILICON VALLEY</td>\n",
       "      <td>1,177,609</td>\n",
       "      <td>27,247</td>\n",
       "    </tr>\n",
       "    <tr>\n",
       "      <th>5</th>\n",
       "      <td>ORANGE COUNTY</td>\n",
       "      <td>1,030,185</td>\n",
       "      <td>12,994</td>\n",
       "    </tr>\n",
       "    <tr>\n",
       "      <th>6</th>\n",
       "      <td>SAN DIEGO CA</td>\n",
       "      <td>959,307</td>\n",
       "      <td>69,995</td>\n",
       "    </tr>\n",
       "    <tr>\n",
       "      <th>7</th>\n",
       "      <td>PHOENIX AZ</td>\n",
       "      <td>943,999</td>\n",
       "      <td>6,133</td>\n",
       "    </tr>\n",
       "    <tr>\n",
       "      <th>8</th>\n",
       "      <td>DALLAS TX</td>\n",
       "      <td>942,908</td>\n",
       "      <td>22,157</td>\n",
       "    </tr>\n",
       "    <tr>\n",
       "      <th>9</th>\n",
       "      <td>ATLANTA GA</td>\n",
       "      <td>814,885</td>\n",
       "      <td>24,701</td>\n",
       "    </tr>\n",
       "    <tr>\n",
       "      <th>10</th>\n",
       "      <td>DENVER CO</td>\n",
       "      <td>754,233</td>\n",
       "      <td>12,421</td>\n",
       "    </tr>\n",
       "    <tr>\n",
       "      <th>11</th>\n",
       "      <td>AUSTIN TX</td>\n",
       "      <td>698,371</td>\n",
       "      <td>14,978</td>\n",
       "    </tr>\n",
       "    <tr>\n",
       "      <th>12</th>\n",
       "      <td>SEATTLE WA</td>\n",
       "      <td>671,238</td>\n",
       "      <td>25,063</td>\n",
       "    </tr>\n",
       "    <tr>\n",
       "      <th>13</th>\n",
       "      <td>TUCSON AZ</td>\n",
       "      <td>631,442</td>\n",
       "      <td>5,712</td>\n",
       "    </tr>\n",
       "    <tr>\n",
       "      <th>14</th>\n",
       "      <td>SAN FRANCISCO CA</td>\n",
       "      <td>629,591</td>\n",
       "      <td>213,609</td>\n",
       "    </tr>\n",
       "    <tr>\n",
       "      <th>15</th>\n",
       "      <td>SACRAMENTO CA</td>\n",
       "      <td>545,776</td>\n",
       "      <td>7,044</td>\n",
       "    </tr>\n",
       "    <tr>\n",
       "      <th>16</th>\n",
       "      <td>PITTSBURGH PA</td>\n",
       "      <td>542,085</td>\n",
       "      <td>3,643</td>\n",
       "    </tr>\n",
       "    <tr>\n",
       "      <th>17</th>\n",
       "      <td>WASHINGTON DC</td>\n",
       "      <td>418,859</td>\n",
       "      <td>127,001</td>\n",
       "    </tr>\n",
       "    <tr>\n",
       "      <th>18</th>\n",
       "      <td>NASHVILLE TN</td>\n",
       "      <td>327,225</td>\n",
       "      <td>9,270</td>\n",
       "    </tr>\n",
       "    <tr>\n",
       "      <th>19</th>\n",
       "      <td>BOSTON MA</td>\n",
       "      <td>248,968</td>\n",
       "      <td>80,021</td>\n",
       "    </tr>\n",
       "  </tbody>\n",
       "</table>\n",
       "</div>"
      ],
      "text/plain": [
       "                City   Population      Users\n",
       "0        NEW YORK NY   8,405,837    302,149 \n",
       "1         CHICAGO IL   1,955,130    164,468 \n",
       "2     LOS ANGELES CA   1,595,037    144,132 \n",
       "3           MIAMI FL   1,339,155     17,675 \n",
       "4     SILICON VALLEY   1,177,609     27,247 \n",
       "5      ORANGE COUNTY   1,030,185     12,994 \n",
       "6       SAN DIEGO CA     959,307     69,995 \n",
       "7         PHOENIX AZ     943,999      6,133 \n",
       "8          DALLAS TX     942,908     22,157 \n",
       "9         ATLANTA GA     814,885     24,701 \n",
       "10         DENVER CO     754,233     12,421 \n",
       "11         AUSTIN TX     698,371     14,978 \n",
       "12        SEATTLE WA     671,238     25,063 \n",
       "13         TUCSON AZ     631,442      5,712 \n",
       "14  SAN FRANCISCO CA     629,591    213,609 \n",
       "15     SACRAMENTO CA     545,776      7,044 \n",
       "16     PITTSBURGH PA     542,085      3,643 \n",
       "17     WASHINGTON DC     418,859    127,001 \n",
       "18      NASHVILLE TN     327,225      9,270 \n",
       "19         BOSTON MA     248,968     80,021 "
      ]
     },
     "execution_count": 12,
     "metadata": {},
     "output_type": "execute_result"
    }
   ],
   "source": [
    "#Load dataset\n",
    "city=pd.read_csv('/home/miano/Documents/DataGlacier/week2/DataSets/City.csv')\n",
    "city.head(20)"
   ]
  },
  {
   "cell_type": "code",
   "execution_count": 13,
   "metadata": {},
   "outputs": [
    {
     "data": {
      "text/plain": [
       "City          object\n",
       "Population    object\n",
       "Users         object\n",
       "dtype: object"
      ]
     },
     "execution_count": 13,
     "metadata": {},
     "output_type": "execute_result"
    }
   ],
   "source": [
    "city.dtypes"
   ]
  },
  {
   "cell_type": "code",
   "execution_count": 14,
   "metadata": {},
   "outputs": [
    {
     "name": "stdout",
     "output_type": "stream",
     "text": [
      "<class 'pandas.core.frame.DataFrame'>\n",
      "RangeIndex: 20 entries, 0 to 19\n",
      "Data columns (total 3 columns):\n",
      "City          20 non-null object\n",
      "Population    20 non-null object\n",
      "Users         20 non-null object\n",
      "dtypes: object(3)\n",
      "memory usage: 560.0+ bytes\n"
     ]
    }
   ],
   "source": [
    "city.info()"
   ]
  },
  {
   "cell_type": "markdown",
   "metadata": {},
   "source": [
    "There are 20 cities, each given its population and users. There are no null values. However, columns population and users are of object data type instead of integer."
   ]
  },
  {
   "cell_type": "code",
   "execution_count": 15,
   "metadata": {},
   "outputs": [
    {
     "data": {
      "text/plain": [
       "0     302149\n",
       "1     164468\n",
       "2     144132\n",
       "3      17675\n",
       "4      27247\n",
       "5      12994\n",
       "6      69995\n",
       "7       6133\n",
       "8      22157\n",
       "9      24701\n",
       "10     12421\n",
       "11     14978\n",
       "12     25063\n",
       "13      5712\n",
       "14    213609\n",
       "15      7044\n",
       "16      3643\n",
       "17    127001\n",
       "18      9270\n",
       "19     80021\n",
       "Name: Users, dtype: int64"
      ]
     },
     "execution_count": 15,
     "metadata": {},
     "output_type": "execute_result"
    }
   ],
   "source": [
    "#Convert population and users to the correct data type\n",
    "city['Population']=city['Population'].str.replace(',','')\n",
    "city['Population'].astype(int)\n",
    "\n",
    "city['Users']=city['Users'].str.replace(',','')\n",
    "city['Users'].astype(int)\n"
   ]
  },
  {
   "cell_type": "code",
   "execution_count": 16,
   "metadata": {},
   "outputs": [
    {
     "name": "stdout",
     "output_type": "stream",
     "text": [
      "<class 'pandas.core.frame.DataFrame'>\n",
      "RangeIndex: 20 entries, 0 to 19\n",
      "Data columns (total 3 columns):\n",
      "City          20 non-null object\n",
      "Population    20 non-null object\n",
      "Users         20 non-null object\n",
      "dtypes: object(3)\n",
      "memory usage: 560.0+ bytes\n"
     ]
    }
   ],
   "source": [
    "\n",
    "city.info()"
   ]
  },
  {
   "cell_type": "code",
   "execution_count": null,
   "metadata": {},
   "outputs": [],
   "source": []
  },
  {
   "cell_type": "code",
   "execution_count": null,
   "metadata": {},
   "outputs": [],
   "source": []
  },
  {
   "cell_type": "code",
   "execution_count": null,
   "metadata": {},
   "outputs": [],
   "source": []
  },
  {
   "cell_type": "markdown",
   "metadata": {},
   "source": [
    "### Customer Data"
   ]
  },
  {
   "cell_type": "code",
   "execution_count": 17,
   "metadata": {},
   "outputs": [
    {
     "data": {
      "text/html": [
       "<div>\n",
       "<style scoped>\n",
       "    .dataframe tbody tr th:only-of-type {\n",
       "        vertical-align: middle;\n",
       "    }\n",
       "\n",
       "    .dataframe tbody tr th {\n",
       "        vertical-align: top;\n",
       "    }\n",
       "\n",
       "    .dataframe thead th {\n",
       "        text-align: right;\n",
       "    }\n",
       "</style>\n",
       "<table border=\"1\" class=\"dataframe\">\n",
       "  <thead>\n",
       "    <tr style=\"text-align: right;\">\n",
       "      <th></th>\n",
       "      <th>Customer ID</th>\n",
       "      <th>Gender</th>\n",
       "      <th>Age</th>\n",
       "      <th>Income (USD/Month)</th>\n",
       "    </tr>\n",
       "  </thead>\n",
       "  <tbody>\n",
       "    <tr>\n",
       "      <th>0</th>\n",
       "      <td>29290</td>\n",
       "      <td>Male</td>\n",
       "      <td>28</td>\n",
       "      <td>10813</td>\n",
       "    </tr>\n",
       "    <tr>\n",
       "      <th>1</th>\n",
       "      <td>27703</td>\n",
       "      <td>Male</td>\n",
       "      <td>27</td>\n",
       "      <td>9237</td>\n",
       "    </tr>\n",
       "    <tr>\n",
       "      <th>2</th>\n",
       "      <td>28712</td>\n",
       "      <td>Male</td>\n",
       "      <td>53</td>\n",
       "      <td>11242</td>\n",
       "    </tr>\n",
       "    <tr>\n",
       "      <th>3</th>\n",
       "      <td>28020</td>\n",
       "      <td>Male</td>\n",
       "      <td>23</td>\n",
       "      <td>23327</td>\n",
       "    </tr>\n",
       "    <tr>\n",
       "      <th>4</th>\n",
       "      <td>27182</td>\n",
       "      <td>Male</td>\n",
       "      <td>33</td>\n",
       "      <td>8536</td>\n",
       "    </tr>\n",
       "  </tbody>\n",
       "</table>\n",
       "</div>"
      ],
      "text/plain": [
       "   Customer ID Gender  Age  Income (USD/Month)\n",
       "0        29290   Male   28               10813\n",
       "1        27703   Male   27                9237\n",
       "2        28712   Male   53               11242\n",
       "3        28020   Male   23               23327\n",
       "4        27182   Male   33                8536"
      ]
     },
     "execution_count": 17,
     "metadata": {},
     "output_type": "execute_result"
    }
   ],
   "source": [
    "customer=pd.read_csv(r'/home/miano/Documents/DataGlacier/week2/DataSets/Customer_ID.csv')\n",
    "customer.head()"
   ]
  },
  {
   "cell_type": "code",
   "execution_count": 18,
   "metadata": {},
   "outputs": [
    {
     "data": {
      "text/plain": [
       "(49171, 4)"
      ]
     },
     "execution_count": 18,
     "metadata": {},
     "output_type": "execute_result"
    }
   ],
   "source": [
    "customer.shape"
   ]
  },
  {
   "cell_type": "code",
   "execution_count": 19,
   "metadata": {},
   "outputs": [
    {
     "name": "stdout",
     "output_type": "stream",
     "text": [
      "<class 'pandas.core.frame.DataFrame'>\n",
      "RangeIndex: 49171 entries, 0 to 49170\n",
      "Data columns (total 4 columns):\n",
      "Customer ID           49171 non-null int64\n",
      "Gender                49171 non-null object\n",
      "Age                   49171 non-null int64\n",
      "Income (USD/Month)    49171 non-null int64\n",
      "dtypes: int64(3), object(1)\n",
      "memory usage: 1.5+ MB\n"
     ]
    }
   ],
   "source": [
    "customer.info()"
   ]
  },
  {
   "cell_type": "code",
   "execution_count": 20,
   "metadata": {},
   "outputs": [
    {
     "data": {
      "text/plain": [
       "Male      26562\n",
       "Female    22609\n",
       "Name: Gender, dtype: int64"
      ]
     },
     "execution_count": 20,
     "metadata": {},
     "output_type": "execute_result"
    }
   ],
   "source": [
    "customer['Gender'].value_counts()"
   ]
  },
  {
   "cell_type": "code",
   "execution_count": 21,
   "metadata": {},
   "outputs": [],
   "source": [
    "# Convert Customer ID into object data type\n",
    "customer['Customer ID']=customer['Customer ID'].astype(object)"
   ]
  },
  {
   "cell_type": "code",
   "execution_count": 22,
   "metadata": {},
   "outputs": [
    {
     "data": {
      "text/html": [
       "<div>\n",
       "<style scoped>\n",
       "    .dataframe tbody tr th:only-of-type {\n",
       "        vertical-align: middle;\n",
       "    }\n",
       "\n",
       "    .dataframe tbody tr th {\n",
       "        vertical-align: top;\n",
       "    }\n",
       "\n",
       "    .dataframe thead th {\n",
       "        text-align: right;\n",
       "    }\n",
       "</style>\n",
       "<table border=\"1\" class=\"dataframe\">\n",
       "  <thead>\n",
       "    <tr style=\"text-align: right;\">\n",
       "      <th></th>\n",
       "      <th>Age</th>\n",
       "      <th>Income (USD/Month)</th>\n",
       "    </tr>\n",
       "  </thead>\n",
       "  <tbody>\n",
       "    <tr>\n",
       "      <th>count</th>\n",
       "      <td>49171.000000</td>\n",
       "      <td>49171.000000</td>\n",
       "    </tr>\n",
       "    <tr>\n",
       "      <th>mean</th>\n",
       "      <td>35.363121</td>\n",
       "      <td>15015.631856</td>\n",
       "    </tr>\n",
       "    <tr>\n",
       "      <th>std</th>\n",
       "      <td>12.599066</td>\n",
       "      <td>8002.208253</td>\n",
       "    </tr>\n",
       "    <tr>\n",
       "      <th>min</th>\n",
       "      <td>18.000000</td>\n",
       "      <td>2000.000000</td>\n",
       "    </tr>\n",
       "    <tr>\n",
       "      <th>25%</th>\n",
       "      <td>25.000000</td>\n",
       "      <td>8289.500000</td>\n",
       "    </tr>\n",
       "    <tr>\n",
       "      <th>50%</th>\n",
       "      <td>33.000000</td>\n",
       "      <td>14656.000000</td>\n",
       "    </tr>\n",
       "    <tr>\n",
       "      <th>75%</th>\n",
       "      <td>42.000000</td>\n",
       "      <td>21035.000000</td>\n",
       "    </tr>\n",
       "    <tr>\n",
       "      <th>max</th>\n",
       "      <td>65.000000</td>\n",
       "      <td>35000.000000</td>\n",
       "    </tr>\n",
       "  </tbody>\n",
       "</table>\n",
       "</div>"
      ],
      "text/plain": [
       "                Age  Income (USD/Month)\n",
       "count  49171.000000        49171.000000\n",
       "mean      35.363121        15015.631856\n",
       "std       12.599066         8002.208253\n",
       "min       18.000000         2000.000000\n",
       "25%       25.000000         8289.500000\n",
       "50%       33.000000        14656.000000\n",
       "75%       42.000000        21035.000000\n",
       "max       65.000000        35000.000000"
      ]
     },
     "execution_count": 22,
     "metadata": {},
     "output_type": "execute_result"
    }
   ],
   "source": [
    "customer.describe()"
   ]
  },
  {
   "cell_type": "markdown",
   "metadata": {},
   "source": [
    "### Transactions Data"
   ]
  },
  {
   "cell_type": "code",
   "execution_count": 23,
   "metadata": {},
   "outputs": [
    {
     "data": {
      "text/html": [
       "<div>\n",
       "<style scoped>\n",
       "    .dataframe tbody tr th:only-of-type {\n",
       "        vertical-align: middle;\n",
       "    }\n",
       "\n",
       "    .dataframe tbody tr th {\n",
       "        vertical-align: top;\n",
       "    }\n",
       "\n",
       "    .dataframe thead th {\n",
       "        text-align: right;\n",
       "    }\n",
       "</style>\n",
       "<table border=\"1\" class=\"dataframe\">\n",
       "  <thead>\n",
       "    <tr style=\"text-align: right;\">\n",
       "      <th></th>\n",
       "      <th>Transaction ID</th>\n",
       "      <th>Customer ID</th>\n",
       "      <th>Payment_Mode</th>\n",
       "    </tr>\n",
       "  </thead>\n",
       "  <tbody>\n",
       "    <tr>\n",
       "      <th>0</th>\n",
       "      <td>10000011</td>\n",
       "      <td>29290</td>\n",
       "      <td>Card</td>\n",
       "    </tr>\n",
       "    <tr>\n",
       "      <th>1</th>\n",
       "      <td>10000012</td>\n",
       "      <td>27703</td>\n",
       "      <td>Card</td>\n",
       "    </tr>\n",
       "    <tr>\n",
       "      <th>2</th>\n",
       "      <td>10000013</td>\n",
       "      <td>28712</td>\n",
       "      <td>Cash</td>\n",
       "    </tr>\n",
       "    <tr>\n",
       "      <th>3</th>\n",
       "      <td>10000014</td>\n",
       "      <td>28020</td>\n",
       "      <td>Cash</td>\n",
       "    </tr>\n",
       "    <tr>\n",
       "      <th>4</th>\n",
       "      <td>10000015</td>\n",
       "      <td>27182</td>\n",
       "      <td>Card</td>\n",
       "    </tr>\n",
       "  </tbody>\n",
       "</table>\n",
       "</div>"
      ],
      "text/plain": [
       "   Transaction ID  Customer ID Payment_Mode\n",
       "0        10000011        29290         Card\n",
       "1        10000012        27703         Card\n",
       "2        10000013        28712         Cash\n",
       "3        10000014        28020         Cash\n",
       "4        10000015        27182         Card"
      ]
     },
     "execution_count": 23,
     "metadata": {},
     "output_type": "execute_result"
    }
   ],
   "source": [
    "transactions=pd.read_csv(r'/home/miano/Documents/DataGlacier/week2/DataSets/Transaction_ID.csv')\n",
    "transactions.head()"
   ]
  },
  {
   "cell_type": "code",
   "execution_count": 24,
   "metadata": {},
   "outputs": [
    {
     "name": "stdout",
     "output_type": "stream",
     "text": [
      "<class 'pandas.core.frame.DataFrame'>\n",
      "RangeIndex: 440098 entries, 0 to 440097\n",
      "Data columns (total 3 columns):\n",
      "Transaction ID    440098 non-null int64\n",
      "Customer ID       440098 non-null int64\n",
      "Payment_Mode      440098 non-null object\n",
      "dtypes: int64(2), object(1)\n",
      "memory usage: 10.1+ MB\n"
     ]
    }
   ],
   "source": [
    "transactions.info()"
   ]
  },
  {
   "cell_type": "code",
   "execution_count": 25,
   "metadata": {},
   "outputs": [
    {
     "name": "stdout",
     "output_type": "stream",
     "text": [
      "<class 'pandas.core.frame.DataFrame'>\n",
      "RangeIndex: 440098 entries, 0 to 440097\n",
      "Data columns (total 3 columns):\n",
      "Transaction ID    440098 non-null object\n",
      "Customer ID       440098 non-null object\n",
      "Payment_Mode      440098 non-null object\n",
      "dtypes: object(3)\n",
      "memory usage: 10.1+ MB\n"
     ]
    }
   ],
   "source": [
    "# Convert transactions ID and Customer ID into object type\n",
    "transactions['Customer ID']=transactions['Customer ID'].astype(object)\n",
    "transactions['Transaction ID']=transactions['Transaction ID'].astype(object)\n",
    "transactions.info()"
   ]
  },
  {
   "cell_type": "code",
   "execution_count": 26,
   "metadata": {},
   "outputs": [
    {
     "data": {
      "text/plain": [
       "Card    263991\n",
       "Cash    176107\n",
       "Name: Payment_Mode, dtype: int64"
      ]
     },
     "execution_count": 26,
     "metadata": {},
     "output_type": "execute_result"
    }
   ],
   "source": [
    "transactions['Payment_Mode'].value_counts()"
   ]
  },
  {
   "cell_type": "code",
   "execution_count": 27,
   "metadata": {},
   "outputs": [
    {
     "data": {
      "text/plain": [
       "(440098, 3)"
      ]
     },
     "execution_count": 27,
     "metadata": {},
     "output_type": "execute_result"
    }
   ],
   "source": [
    "transactions.shape"
   ]
  },
  {
   "cell_type": "markdown",
   "metadata": {},
   "source": [
    "Transactions Dataset is fairly cleaned, no missing values. 440098 entries of different transaction IDs, payment modes and customers ID. Only required conversion of Transaction ID and Customer ID into object data types, not integers."
   ]
  },
  {
   "cell_type": "code",
   "execution_count": 28,
   "metadata": {},
   "outputs": [
    {
     "data": {
      "text/plain": [
       "0"
      ]
     },
     "execution_count": 28,
     "metadata": {},
     "output_type": "execute_result"
    }
   ],
   "source": [
    "#Check for any duplicated values\n",
    "transactions['Transaction ID'].duplicated().sum()"
   ]
  },
  {
   "cell_type": "code",
   "execution_count": 29,
   "metadata": {},
   "outputs": [
    {
     "data": {
      "text/plain": [
       "390927"
      ]
     },
     "execution_count": 29,
     "metadata": {},
     "output_type": "execute_result"
    }
   ],
   "source": [
    "transactions['Customer ID'].duplicated().sum()"
   ]
  },
  {
   "cell_type": "code",
   "execution_count": 30,
   "metadata": {},
   "outputs": [
    {
     "data": {
      "text/plain": [
       "494      54\n",
       "2939     53\n",
       "2766     51\n",
       "1070     51\n",
       "1803     50\n",
       "2539     50\n",
       "944      50\n",
       "903      50\n",
       "1067     50\n",
       "1628     50\n",
       "858      50\n",
       "126      50\n",
       "2577     49\n",
       "1103     49\n",
       "2895     49\n",
       "442      49\n",
       "1360     49\n",
       "1673     48\n",
       "2776     48\n",
       "1452     48\n",
       "2912     48\n",
       "336      48\n",
       "205      48\n",
       "1532     47\n",
       "972      47\n",
       "960      47\n",
       "696      47\n",
       "1769     47\n",
       "1546     47\n",
       "42879    47\n",
       "         ..\n",
       "10243     1\n",
       "29907     1\n",
       "10240     1\n",
       "29909     1\n",
       "29867     1\n",
       "10283     1\n",
       "29866     1\n",
       "10285     1\n",
       "10323     1\n",
       "29801     1\n",
       "10321     1\n",
       "29807     1\n",
       "29808     1\n",
       "29809     1\n",
       "10314     1\n",
       "29816     1\n",
       "29819     1\n",
       "29830     1\n",
       "10303     1\n",
       "29842     1\n",
       "29847     1\n",
       "10300     1\n",
       "10297     1\n",
       "29852     1\n",
       "29855     1\n",
       "10291     1\n",
       "10288     1\n",
       "10287     1\n",
       "29865     1\n",
       "47442     1\n",
       "Name: Customer ID, Length: 49171, dtype: int64"
      ]
     },
     "execution_count": 30,
     "metadata": {},
     "output_type": "execute_result"
    }
   ],
   "source": [
    "transactions['Customer ID'].value_counts()"
   ]
  },
  {
   "cell_type": "markdown",
   "metadata": {},
   "source": [
    "Transaction IDs are not duplicated, hence accurate. But customer IDs are duplicated as one customer can have several transactions"
   ]
  },
  {
   "cell_type": "markdown",
   "metadata": {},
   "source": [
    "From the three datasets, we can find relations between datasets\n",
    "\n",
    "a) Link transactions dataset with cab dataset using the transaction ID column\n",
    "\n",
    "b) Link transactions dataset with customer dataset using the customer ID column\n",
    "\n",
    "c) Link the cab dataset with city dataset using the city column\n",
    "\n",
    "Hence, all datasets can be linked to form one large dataset, making data analysis easier."
   ]
  },
  {
   "cell_type": "code",
   "execution_count": null,
   "metadata": {},
   "outputs": [],
   "source": []
  },
  {
   "cell_type": "code",
   "execution_count": 31,
   "metadata": {},
   "outputs": [
    {
     "data": {
      "text/html": [
       "<div>\n",
       "<style scoped>\n",
       "    .dataframe tbody tr th:only-of-type {\n",
       "        vertical-align: middle;\n",
       "    }\n",
       "\n",
       "    .dataframe tbody tr th {\n",
       "        vertical-align: top;\n",
       "    }\n",
       "\n",
       "    .dataframe thead th {\n",
       "        text-align: right;\n",
       "    }\n",
       "</style>\n",
       "<table border=\"1\" class=\"dataframe\">\n",
       "  <thead>\n",
       "    <tr style=\"text-align: right;\">\n",
       "      <th></th>\n",
       "      <th>Transaction ID</th>\n",
       "      <th>Customer ID</th>\n",
       "      <th>Payment_Mode</th>\n",
       "      <th>Gender</th>\n",
       "      <th>Age</th>\n",
       "      <th>Income (USD/Month)</th>\n",
       "    </tr>\n",
       "  </thead>\n",
       "  <tbody>\n",
       "    <tr>\n",
       "      <th>0</th>\n",
       "      <td>10000011</td>\n",
       "      <td>29290</td>\n",
       "      <td>Card</td>\n",
       "      <td>Male</td>\n",
       "      <td>28</td>\n",
       "      <td>10813</td>\n",
       "    </tr>\n",
       "    <tr>\n",
       "      <th>1</th>\n",
       "      <td>10351127</td>\n",
       "      <td>29290</td>\n",
       "      <td>Cash</td>\n",
       "      <td>Male</td>\n",
       "      <td>28</td>\n",
       "      <td>10813</td>\n",
       "    </tr>\n",
       "    <tr>\n",
       "      <th>2</th>\n",
       "      <td>10412921</td>\n",
       "      <td>29290</td>\n",
       "      <td>Card</td>\n",
       "      <td>Male</td>\n",
       "      <td>28</td>\n",
       "      <td>10813</td>\n",
       "    </tr>\n",
       "    <tr>\n",
       "      <th>3</th>\n",
       "      <td>10000012</td>\n",
       "      <td>27703</td>\n",
       "      <td>Card</td>\n",
       "      <td>Male</td>\n",
       "      <td>27</td>\n",
       "      <td>9237</td>\n",
       "    </tr>\n",
       "    <tr>\n",
       "      <th>4</th>\n",
       "      <td>10320494</td>\n",
       "      <td>27703</td>\n",
       "      <td>Card</td>\n",
       "      <td>Male</td>\n",
       "      <td>27</td>\n",
       "      <td>9237</td>\n",
       "    </tr>\n",
       "  </tbody>\n",
       "</table>\n",
       "</div>"
      ],
      "text/plain": [
       "  Transaction ID Customer ID Payment_Mode Gender  Age  Income (USD/Month)\n",
       "0       10000011       29290         Card   Male   28               10813\n",
       "1       10351127       29290         Cash   Male   28               10813\n",
       "2       10412921       29290         Card   Male   28               10813\n",
       "3       10000012       27703         Card   Male   27                9237\n",
       "4       10320494       27703         Card   Male   27                9237"
      ]
     },
     "execution_count": 31,
     "metadata": {},
     "output_type": "execute_result"
    }
   ],
   "source": [
    "#Link b) \n",
    "customerTransactions=pd.merge(transactions,customer)\n",
    "customerTransactions.head()"
   ]
  },
  {
   "cell_type": "code",
   "execution_count": 32,
   "metadata": {},
   "outputs": [
    {
     "data": {
      "text/html": [
       "<div>\n",
       "<style scoped>\n",
       "    .dataframe tbody tr th:only-of-type {\n",
       "        vertical-align: middle;\n",
       "    }\n",
       "\n",
       "    .dataframe tbody tr th {\n",
       "        vertical-align: top;\n",
       "    }\n",
       "\n",
       "    .dataframe thead th {\n",
       "        text-align: right;\n",
       "    }\n",
       "</style>\n",
       "<table border=\"1\" class=\"dataframe\">\n",
       "  <thead>\n",
       "    <tr style=\"text-align: right;\">\n",
       "      <th></th>\n",
       "      <th>Transaction ID</th>\n",
       "      <th>Customer ID</th>\n",
       "      <th>Payment_Mode</th>\n",
       "      <th>Gender</th>\n",
       "      <th>Age</th>\n",
       "      <th>Income (USD/Month)</th>\n",
       "      <th>Date of Travel</th>\n",
       "      <th>Company</th>\n",
       "      <th>City</th>\n",
       "      <th>KM Travelled</th>\n",
       "      <th>Price Charged</th>\n",
       "      <th>Cost of Trip</th>\n",
       "    </tr>\n",
       "  </thead>\n",
       "  <tbody>\n",
       "    <tr>\n",
       "      <th>0</th>\n",
       "      <td>10000011</td>\n",
       "      <td>29290</td>\n",
       "      <td>Card</td>\n",
       "      <td>Male</td>\n",
       "      <td>28</td>\n",
       "      <td>10813</td>\n",
       "      <td>42377</td>\n",
       "      <td>Pink Cab</td>\n",
       "      <td>ATLANTA GA</td>\n",
       "      <td>30.45</td>\n",
       "      <td>370.95</td>\n",
       "      <td>313.6350</td>\n",
       "    </tr>\n",
       "    <tr>\n",
       "      <th>1</th>\n",
       "      <td>10351127</td>\n",
       "      <td>29290</td>\n",
       "      <td>Cash</td>\n",
       "      <td>Male</td>\n",
       "      <td>28</td>\n",
       "      <td>10813</td>\n",
       "      <td>43302</td>\n",
       "      <td>Yellow Cab</td>\n",
       "      <td>ATLANTA GA</td>\n",
       "      <td>26.19</td>\n",
       "      <td>598.70</td>\n",
       "      <td>317.4228</td>\n",
       "    </tr>\n",
       "    <tr>\n",
       "      <th>2</th>\n",
       "      <td>10412921</td>\n",
       "      <td>29290</td>\n",
       "      <td>Card</td>\n",
       "      <td>Male</td>\n",
       "      <td>28</td>\n",
       "      <td>10813</td>\n",
       "      <td>43427</td>\n",
       "      <td>Yellow Cab</td>\n",
       "      <td>ATLANTA GA</td>\n",
       "      <td>42.55</td>\n",
       "      <td>792.05</td>\n",
       "      <td>597.4020</td>\n",
       "    </tr>\n",
       "    <tr>\n",
       "      <th>3</th>\n",
       "      <td>10000012</td>\n",
       "      <td>27703</td>\n",
       "      <td>Card</td>\n",
       "      <td>Male</td>\n",
       "      <td>27</td>\n",
       "      <td>9237</td>\n",
       "      <td>42375</td>\n",
       "      <td>Pink Cab</td>\n",
       "      <td>ATLANTA GA</td>\n",
       "      <td>28.62</td>\n",
       "      <td>358.52</td>\n",
       "      <td>334.8540</td>\n",
       "    </tr>\n",
       "    <tr>\n",
       "      <th>4</th>\n",
       "      <td>10320494</td>\n",
       "      <td>27703</td>\n",
       "      <td>Card</td>\n",
       "      <td>Male</td>\n",
       "      <td>27</td>\n",
       "      <td>9237</td>\n",
       "      <td>43211</td>\n",
       "      <td>Yellow Cab</td>\n",
       "      <td>ATLANTA GA</td>\n",
       "      <td>36.38</td>\n",
       "      <td>721.10</td>\n",
       "      <td>467.1192</td>\n",
       "    </tr>\n",
       "  </tbody>\n",
       "</table>\n",
       "</div>"
      ],
      "text/plain": [
       "  Transaction ID Customer ID Payment_Mode Gender  Age  Income (USD/Month)  \\\n",
       "0       10000011       29290         Card   Male   28               10813   \n",
       "1       10351127       29290         Cash   Male   28               10813   \n",
       "2       10412921       29290         Card   Male   28               10813   \n",
       "3       10000012       27703         Card   Male   27                9237   \n",
       "4       10320494       27703         Card   Male   27                9237   \n",
       "\n",
       "   Date of Travel     Company        City  KM Travelled  Price Charged  \\\n",
       "0           42377    Pink Cab  ATLANTA GA         30.45         370.95   \n",
       "1           43302  Yellow Cab  ATLANTA GA         26.19         598.70   \n",
       "2           43427  Yellow Cab  ATLANTA GA         42.55         792.05   \n",
       "3           42375    Pink Cab  ATLANTA GA         28.62         358.52   \n",
       "4           43211  Yellow Cab  ATLANTA GA         36.38         721.10   \n",
       "\n",
       "   Cost of Trip  \n",
       "0      313.6350  \n",
       "1      317.4228  \n",
       "2      597.4020  \n",
       "3      334.8540  \n",
       "4      467.1192  "
      ]
     },
     "execution_count": 32,
     "metadata": {},
     "output_type": "execute_result"
    }
   ],
   "source": [
    "#Link a) and b)\n",
    "data=pd.merge(customerTransactions,CabData)\n",
    "data.head()"
   ]
  },
  {
   "cell_type": "code",
   "execution_count": 33,
   "metadata": {},
   "outputs": [
    {
     "data": {
      "text/html": [
       "<div>\n",
       "<style scoped>\n",
       "    .dataframe tbody tr th:only-of-type {\n",
       "        vertical-align: middle;\n",
       "    }\n",
       "\n",
       "    .dataframe tbody tr th {\n",
       "        vertical-align: top;\n",
       "    }\n",
       "\n",
       "    .dataframe thead th {\n",
       "        text-align: right;\n",
       "    }\n",
       "</style>\n",
       "<table border=\"1\" class=\"dataframe\">\n",
       "  <thead>\n",
       "    <tr style=\"text-align: right;\">\n",
       "      <th></th>\n",
       "      <th>Transaction ID</th>\n",
       "      <th>Customer ID</th>\n",
       "      <th>Payment_Mode</th>\n",
       "      <th>Gender</th>\n",
       "      <th>Age</th>\n",
       "      <th>Income (USD/Month)</th>\n",
       "      <th>Date of Travel</th>\n",
       "      <th>Company</th>\n",
       "      <th>City</th>\n",
       "      <th>KM Travelled</th>\n",
       "      <th>Price Charged</th>\n",
       "      <th>Cost of Trip</th>\n",
       "      <th>Population</th>\n",
       "      <th>Users</th>\n",
       "    </tr>\n",
       "  </thead>\n",
       "  <tbody>\n",
       "    <tr>\n",
       "      <th>0</th>\n",
       "      <td>10000011</td>\n",
       "      <td>29290</td>\n",
       "      <td>Card</td>\n",
       "      <td>Male</td>\n",
       "      <td>28</td>\n",
       "      <td>10813</td>\n",
       "      <td>42377</td>\n",
       "      <td>Pink Cab</td>\n",
       "      <td>ATLANTA GA</td>\n",
       "      <td>30.45</td>\n",
       "      <td>370.95</td>\n",
       "      <td>313.6350</td>\n",
       "      <td>814885</td>\n",
       "      <td>24701</td>\n",
       "    </tr>\n",
       "    <tr>\n",
       "      <th>1</th>\n",
       "      <td>10351127</td>\n",
       "      <td>29290</td>\n",
       "      <td>Cash</td>\n",
       "      <td>Male</td>\n",
       "      <td>28</td>\n",
       "      <td>10813</td>\n",
       "      <td>43302</td>\n",
       "      <td>Yellow Cab</td>\n",
       "      <td>ATLANTA GA</td>\n",
       "      <td>26.19</td>\n",
       "      <td>598.70</td>\n",
       "      <td>317.4228</td>\n",
       "      <td>814885</td>\n",
       "      <td>24701</td>\n",
       "    </tr>\n",
       "    <tr>\n",
       "      <th>2</th>\n",
       "      <td>10412921</td>\n",
       "      <td>29290</td>\n",
       "      <td>Card</td>\n",
       "      <td>Male</td>\n",
       "      <td>28</td>\n",
       "      <td>10813</td>\n",
       "      <td>43427</td>\n",
       "      <td>Yellow Cab</td>\n",
       "      <td>ATLANTA GA</td>\n",
       "      <td>42.55</td>\n",
       "      <td>792.05</td>\n",
       "      <td>597.4020</td>\n",
       "      <td>814885</td>\n",
       "      <td>24701</td>\n",
       "    </tr>\n",
       "    <tr>\n",
       "      <th>3</th>\n",
       "      <td>10000012</td>\n",
       "      <td>27703</td>\n",
       "      <td>Card</td>\n",
       "      <td>Male</td>\n",
       "      <td>27</td>\n",
       "      <td>9237</td>\n",
       "      <td>42375</td>\n",
       "      <td>Pink Cab</td>\n",
       "      <td>ATLANTA GA</td>\n",
       "      <td>28.62</td>\n",
       "      <td>358.52</td>\n",
       "      <td>334.8540</td>\n",
       "      <td>814885</td>\n",
       "      <td>24701</td>\n",
       "    </tr>\n",
       "    <tr>\n",
       "      <th>4</th>\n",
       "      <td>10320494</td>\n",
       "      <td>27703</td>\n",
       "      <td>Card</td>\n",
       "      <td>Male</td>\n",
       "      <td>27</td>\n",
       "      <td>9237</td>\n",
       "      <td>43211</td>\n",
       "      <td>Yellow Cab</td>\n",
       "      <td>ATLANTA GA</td>\n",
       "      <td>36.38</td>\n",
       "      <td>721.10</td>\n",
       "      <td>467.1192</td>\n",
       "      <td>814885</td>\n",
       "      <td>24701</td>\n",
       "    </tr>\n",
       "  </tbody>\n",
       "</table>\n",
       "</div>"
      ],
      "text/plain": [
       "  Transaction ID Customer ID Payment_Mode Gender  Age  Income (USD/Month)  \\\n",
       "0       10000011       29290         Card   Male   28               10813   \n",
       "1       10351127       29290         Cash   Male   28               10813   \n",
       "2       10412921       29290         Card   Male   28               10813   \n",
       "3       10000012       27703         Card   Male   27                9237   \n",
       "4       10320494       27703         Card   Male   27                9237   \n",
       "\n",
       "   Date of Travel     Company        City  KM Travelled  Price Charged  \\\n",
       "0           42377    Pink Cab  ATLANTA GA         30.45         370.95   \n",
       "1           43302  Yellow Cab  ATLANTA GA         26.19         598.70   \n",
       "2           43427  Yellow Cab  ATLANTA GA         42.55         792.05   \n",
       "3           42375    Pink Cab  ATLANTA GA         28.62         358.52   \n",
       "4           43211  Yellow Cab  ATLANTA GA         36.38         721.10   \n",
       "\n",
       "   Cost of Trip Population    Users  \n",
       "0      313.6350    814885    24701   \n",
       "1      317.4228    814885    24701   \n",
       "2      597.4020    814885    24701   \n",
       "3      334.8540    814885    24701   \n",
       "4      467.1192    814885    24701   "
      ]
     },
     "execution_count": 33,
     "metadata": {},
     "output_type": "execute_result"
    }
   ],
   "source": [
    "#Link c)\n",
    "#Merge city data with main dataset\n",
    "\n",
    "\n",
    "\n",
    "data=pd.merge(data,city,on='City')\n",
    "data.head()"
   ]
  },
  {
   "cell_type": "markdown",
   "metadata": {},
   "source": [
    "Now we have one large dataset named \"Data\" which has combined all info from other datasets. This dataset will be used going forward. But first, we have to convert the date column into an appropriate data type. This is impossible hence we can drop this column."
   ]
  },
  {
   "cell_type": "code",
   "execution_count": 34,
   "metadata": {},
   "outputs": [],
   "source": [
    "data['Date of Travel']=data['Date of Travel'].astype(object)\n",
    "#*****\n",
    "#data['Date of Travel']=pd.to_datetime(data['Date of Travel'],format='%Y%m%d')"
   ]
  },
  {
   "cell_type": "markdown",
   "metadata": {},
   "source": [
    "# EXPLORATORY DATA ANALYSIS"
   ]
  },
  {
   "cell_type": "code",
   "execution_count": 35,
   "metadata": {},
   "outputs": [
    {
     "data": {
      "text/html": [
       "<div>\n",
       "<style scoped>\n",
       "    .dataframe tbody tr th:only-of-type {\n",
       "        vertical-align: middle;\n",
       "    }\n",
       "\n",
       "    .dataframe tbody tr th {\n",
       "        vertical-align: top;\n",
       "    }\n",
       "\n",
       "    .dataframe thead th {\n",
       "        text-align: right;\n",
       "    }\n",
       "</style>\n",
       "<table border=\"1\" class=\"dataframe\">\n",
       "  <thead>\n",
       "    <tr style=\"text-align: right;\">\n",
       "      <th></th>\n",
       "      <th>Transaction ID</th>\n",
       "      <th>Customer ID</th>\n",
       "      <th>Payment_Mode</th>\n",
       "      <th>Gender</th>\n",
       "      <th>Age</th>\n",
       "      <th>Income (USD/Month)</th>\n",
       "      <th>Date of Travel</th>\n",
       "      <th>Company</th>\n",
       "      <th>City</th>\n",
       "      <th>KM Travelled</th>\n",
       "      <th>Price Charged</th>\n",
       "      <th>Cost of Trip</th>\n",
       "      <th>Population</th>\n",
       "      <th>Users</th>\n",
       "    </tr>\n",
       "  </thead>\n",
       "  <tbody>\n",
       "    <tr>\n",
       "      <th>0</th>\n",
       "      <td>10000011</td>\n",
       "      <td>29290</td>\n",
       "      <td>Card</td>\n",
       "      <td>Male</td>\n",
       "      <td>28</td>\n",
       "      <td>10813</td>\n",
       "      <td>42377</td>\n",
       "      <td>Pink Cab</td>\n",
       "      <td>ATLANTA GA</td>\n",
       "      <td>30.45</td>\n",
       "      <td>370.95</td>\n",
       "      <td>313.6350</td>\n",
       "      <td>814885</td>\n",
       "      <td>24701</td>\n",
       "    </tr>\n",
       "    <tr>\n",
       "      <th>1</th>\n",
       "      <td>10351127</td>\n",
       "      <td>29290</td>\n",
       "      <td>Cash</td>\n",
       "      <td>Male</td>\n",
       "      <td>28</td>\n",
       "      <td>10813</td>\n",
       "      <td>43302</td>\n",
       "      <td>Yellow Cab</td>\n",
       "      <td>ATLANTA GA</td>\n",
       "      <td>26.19</td>\n",
       "      <td>598.70</td>\n",
       "      <td>317.4228</td>\n",
       "      <td>814885</td>\n",
       "      <td>24701</td>\n",
       "    </tr>\n",
       "    <tr>\n",
       "      <th>2</th>\n",
       "      <td>10412921</td>\n",
       "      <td>29290</td>\n",
       "      <td>Card</td>\n",
       "      <td>Male</td>\n",
       "      <td>28</td>\n",
       "      <td>10813</td>\n",
       "      <td>43427</td>\n",
       "      <td>Yellow Cab</td>\n",
       "      <td>ATLANTA GA</td>\n",
       "      <td>42.55</td>\n",
       "      <td>792.05</td>\n",
       "      <td>597.4020</td>\n",
       "      <td>814885</td>\n",
       "      <td>24701</td>\n",
       "    </tr>\n",
       "    <tr>\n",
       "      <th>3</th>\n",
       "      <td>10000012</td>\n",
       "      <td>27703</td>\n",
       "      <td>Card</td>\n",
       "      <td>Male</td>\n",
       "      <td>27</td>\n",
       "      <td>9237</td>\n",
       "      <td>42375</td>\n",
       "      <td>Pink Cab</td>\n",
       "      <td>ATLANTA GA</td>\n",
       "      <td>28.62</td>\n",
       "      <td>358.52</td>\n",
       "      <td>334.8540</td>\n",
       "      <td>814885</td>\n",
       "      <td>24701</td>\n",
       "    </tr>\n",
       "    <tr>\n",
       "      <th>4</th>\n",
       "      <td>10320494</td>\n",
       "      <td>27703</td>\n",
       "      <td>Card</td>\n",
       "      <td>Male</td>\n",
       "      <td>27</td>\n",
       "      <td>9237</td>\n",
       "      <td>43211</td>\n",
       "      <td>Yellow Cab</td>\n",
       "      <td>ATLANTA GA</td>\n",
       "      <td>36.38</td>\n",
       "      <td>721.10</td>\n",
       "      <td>467.1192</td>\n",
       "      <td>814885</td>\n",
       "      <td>24701</td>\n",
       "    </tr>\n",
       "  </tbody>\n",
       "</table>\n",
       "</div>"
      ],
      "text/plain": [
       "  Transaction ID Customer ID Payment_Mode Gender  Age  Income (USD/Month)  \\\n",
       "0       10000011       29290         Card   Male   28               10813   \n",
       "1       10351127       29290         Cash   Male   28               10813   \n",
       "2       10412921       29290         Card   Male   28               10813   \n",
       "3       10000012       27703         Card   Male   27                9237   \n",
       "4       10320494       27703         Card   Male   27                9237   \n",
       "\n",
       "  Date of Travel     Company        City  KM Travelled  Price Charged  \\\n",
       "0          42377    Pink Cab  ATLANTA GA         30.45         370.95   \n",
       "1          43302  Yellow Cab  ATLANTA GA         26.19         598.70   \n",
       "2          43427  Yellow Cab  ATLANTA GA         42.55         792.05   \n",
       "3          42375    Pink Cab  ATLANTA GA         28.62         358.52   \n",
       "4          43211  Yellow Cab  ATLANTA GA         36.38         721.10   \n",
       "\n",
       "   Cost of Trip Population    Users  \n",
       "0      313.6350    814885    24701   \n",
       "1      317.4228    814885    24701   \n",
       "2      597.4020    814885    24701   \n",
       "3      334.8540    814885    24701   \n",
       "4      467.1192    814885    24701   "
      ]
     },
     "execution_count": 35,
     "metadata": {},
     "output_type": "execute_result"
    }
   ],
   "source": [
    "#Plotting libraries\n",
    "import matplotlib.pyplot as plt\n",
    "import seaborn as sns\n",
    "data.head()"
   ]
  },
  {
   "cell_type": "markdown",
   "metadata": {},
   "source": [
    "## Univariate Data Analysis: Categorical Variables"
   ]
  },
  {
   "cell_type": "markdown",
   "metadata": {},
   "source": [
    "### 1. Gender"
   ]
  },
  {
   "cell_type": "code",
   "execution_count": 36,
   "metadata": {},
   "outputs": [
    {
     "name": "stdout",
     "output_type": "stream",
     "text": [
      "Frequency Distribution: \n",
      " Male      205912\n",
      "Female    153480\n",
      "Name: Gender, dtype: int64\n",
      "Percentage Distribution\n",
      " Male      0.572945\n",
      "Female    0.427055\n",
      "Name: Gender, dtype: float64\n"
     ]
    },
    {
     "data": {
      "image/png": "[encoded data removed]",
      "text/plain": [
       "<Figure size 432x288 with 1 Axes>"
      ]
     },
     "metadata": {},
     "output_type": "display_data"
    }
   ],
   "source": [
    "# Frequency Distribution\n",
    "print('Frequency Distribution: ' \"\\n\",data['Gender'].value_counts())\n",
    "\n",
    "#Percentage Distribution\n",
    "print('Percentage Distribution' \"\\n\", data['Gender'].value_counts(normalize=True))\n",
    "\n",
    "# Graph\n",
    "sns.set()\n",
    "data['Gender'].value_counts().plot.barh(color=['blue','orange'])\n",
    "plt.xlabel('Number of Transactions')\n",
    "plt.ylabel('Gender')\n",
    "plt.title('Gender Distribution')\n",
    "plt.show()"
   ]
  },
  {
   "cell_type": "code",
   "execution_count": 37,
   "metadata": {},
   "outputs": [
    {
     "name": "stdout",
     "output_type": "stream",
     "text": [
      "Frequency Distribution: \n",
      " Male      26562\n",
      "Female    22609\n",
      "Name: Gender, dtype: int64\n",
      "Percentage Distribution\n",
      " Male      0.540196\n",
      "Female    0.459804\n",
      "Name: Gender, dtype: float64\n"
     ]
    },
    {
     "data": {
      "image/png": "[encoded data removed]",
      "text/plain": [
       "<Figure size 432x288 with 1 Axes>"
      ]
     },
     "metadata": {},
     "output_type": "display_data"
    }
   ],
   "source": [
    "# Frequency Distribution\n",
    "print('Frequency Distribution: ' \"\\n\",customer['Gender'].value_counts())\n",
    "\n",
    "#Percentage Distribution\n",
    "print('Percentage Distribution' \"\\n\", customer['Gender'].value_counts(normalize=True))\n",
    "\n",
    "# Graph\n",
    "sns.set()\n",
    "customer['Gender'].value_counts().plot.barh(color=['green','red'])\n",
    "plt.xlabel('Number')\n",
    "plt.ylabel('Gender')\n",
    "plt.title('Gender Distribution')\n",
    "plt.show()"
   ]
  },
  {
   "cell_type": "markdown",
   "metadata": {},
   "source": [
    "According to the customer database, there are more males (54%) than females (46%). In the same trend, males make more transactions compared to females, but at a higher rate. "
   ]
  },
  {
   "cell_type": "markdown",
   "metadata": {},
   "source": [
    "### 2. Company"
   ]
  },
  {
   "cell_type": "code",
   "execution_count": 38,
   "metadata": {},
   "outputs": [
    {
     "name": "stdout",
     "output_type": "stream",
     "text": [
      "Frequency Distribution: \n",
      " Yellow Cab    274681\n",
      "Pink Cab       84711\n",
      "Name: Company, dtype: int64\n",
      "Percentage Distribution\n",
      " Yellow Cab    0.764294\n",
      "Pink Cab      0.235706\n",
      "Name: Company, dtype: float64\n"
     ]
    },
    {
     "data": {
      "image/png": "[encoded data removed]",
      "text/plain": [
       "<Figure size 432x288 with 1 Axes>"
      ]
     },
     "metadata": {},
     "output_type": "display_data"
    }
   ],
   "source": [
    "# Frequency Distribution\n",
    "print('Frequency Distribution: ' \"\\n\",data['Company'].value_counts())\n",
    "\n",
    "#Percentage Distribution\n",
    "print('Percentage Distribution' \"\\n\", data['Company'].value_counts(normalize=True))\n",
    "\n",
    "# Graph\n",
    "sns.set()\n",
    "data['Company'].value_counts().plot.barh(color=['blue','orange'])\n",
    "plt.xlabel('Number')\n",
    "plt.ylabel('Company')\n",
    "plt.title('Number of Transactions')\n",
    "plt.show()"
   ]
  },
  {
   "cell_type": "markdown",
   "metadata": {},
   "source": [
    "Yellow Cab makes more transactions than the Pink Cab. We have to analyse the companies separately to see their differences"
   ]
  },
  {
   "cell_type": "markdown",
   "metadata": {},
   "source": [
    "### 3. Payment Mode"
   ]
  },
  {
   "cell_type": "markdown",
   "metadata": {},
   "source": [
    "### 4. City"
   ]
  },
  {
   "cell_type": "markdown",
   "metadata": {},
   "source": [
    "## Univariate Data Analysis: Numerical Variables"
   ]
  },
  {
   "cell_type": "markdown",
   "metadata": {},
   "source": [
    "## Bivariate Data Analysis"
   ]
  },
  {
   "cell_type": "code",
   "execution_count": null,
   "metadata": {},
   "outputs": [],
   "source": []
  },
  {
   "cell_type": "code",
   "execution_count": 39,
   "metadata": {},
   "outputs": [],
   "source": [
    "#City Distribution per Company\n",
    "\n"
   ]
  },
  {
   "cell_type": "code",
   "execution_count": null,
   "metadata": {},
   "outputs": [],
   "source": []
  },
  {
   "cell_type": "code",
   "execution_count": null,
   "metadata": {},
   "outputs": [],
   "source": []
  },
  {
   "cell_type": "code",
   "execution_count": null,
   "metadata": {},
   "outputs": [],
   "source": []
  },
  {
   "cell_type": "code",
   "execution_count": null,
   "metadata": {},
   "outputs": [],
   "source": []
  },
  {
   "cell_type": "code",
   "execution_count": null,
   "metadata": {},
   "outputs": [],
   "source": []
  },
  {
   "cell_type": "markdown",
   "metadata": {},
   "source": [
    "### Analysing the companies separately"
   ]
  },
  {
   "cell_type": "markdown",
   "metadata": {},
   "source": [
    "We have to split the data into two, for each of the companies: yellow cab and pink cab. Then we will do an analysis of their market and volume of business"
   ]
  },
  {
   "cell_type": "code",
   "execution_count": 40,
   "metadata": {},
   "outputs": [],
   "source": [
    "# Split into pink cab and yellow cab\n",
    "pink= data[data['Company']=='Pink Cab']\n",
    "yellow=data[data['Company']=='Yellow Cab']"
   ]
  },
  {
   "cell_type": "code",
   "execution_count": 41,
   "metadata": {},
   "outputs": [
    {
     "data": {
      "text/html": [
       "<div>\n",
       "<style scoped>\n",
       "    .dataframe tbody tr th:only-of-type {\n",
       "        vertical-align: middle;\n",
       "    }\n",
       "\n",
       "    .dataframe tbody tr th {\n",
       "        vertical-align: top;\n",
       "    }\n",
       "\n",
       "    .dataframe thead th {\n",
       "        text-align: right;\n",
       "    }\n",
       "</style>\n",
       "<table border=\"1\" class=\"dataframe\">\n",
       "  <thead>\n",
       "    <tr style=\"text-align: right;\">\n",
       "      <th></th>\n",
       "      <th>Transaction ID</th>\n",
       "      <th>Customer ID</th>\n",
       "      <th>Payment_Mode</th>\n",
       "      <th>Gender</th>\n",
       "      <th>Age</th>\n",
       "      <th>Income (USD/Month)</th>\n",
       "      <th>Date of Travel</th>\n",
       "      <th>Company</th>\n",
       "      <th>City</th>\n",
       "      <th>KM Travelled</th>\n",
       "      <th>Price Charged</th>\n",
       "      <th>Cost of Trip</th>\n",
       "      <th>Population</th>\n",
       "      <th>Users</th>\n",
       "    </tr>\n",
       "  </thead>\n",
       "  <tbody>\n",
       "    <tr>\n",
       "      <th>0</th>\n",
       "      <td>10000011</td>\n",
       "      <td>29290</td>\n",
       "      <td>Card</td>\n",
       "      <td>Male</td>\n",
       "      <td>28</td>\n",
       "      <td>10813</td>\n",
       "      <td>42377</td>\n",
       "      <td>Pink Cab</td>\n",
       "      <td>ATLANTA GA</td>\n",
       "      <td>30.45</td>\n",
       "      <td>370.95</td>\n",
       "      <td>313.635</td>\n",
       "      <td>814885</td>\n",
       "      <td>24701</td>\n",
       "    </tr>\n",
       "    <tr>\n",
       "      <th>3</th>\n",
       "      <td>10000012</td>\n",
       "      <td>27703</td>\n",
       "      <td>Card</td>\n",
       "      <td>Male</td>\n",
       "      <td>27</td>\n",
       "      <td>9237</td>\n",
       "      <td>42375</td>\n",
       "      <td>Pink Cab</td>\n",
       "      <td>ATLANTA GA</td>\n",
       "      <td>28.62</td>\n",
       "      <td>358.52</td>\n",
       "      <td>334.854</td>\n",
       "      <td>814885</td>\n",
       "      <td>24701</td>\n",
       "    </tr>\n",
       "    <tr>\n",
       "      <th>6</th>\n",
       "      <td>10395626</td>\n",
       "      <td>27703</td>\n",
       "      <td>Card</td>\n",
       "      <td>Male</td>\n",
       "      <td>27</td>\n",
       "      <td>9237</td>\n",
       "      <td>43400</td>\n",
       "      <td>Pink Cab</td>\n",
       "      <td>ATLANTA GA</td>\n",
       "      <td>13.39</td>\n",
       "      <td>167.03</td>\n",
       "      <td>141.934</td>\n",
       "      <td>814885</td>\n",
       "      <td>24701</td>\n",
       "    </tr>\n",
       "    <tr>\n",
       "      <th>7</th>\n",
       "      <td>10000013</td>\n",
       "      <td>28712</td>\n",
       "      <td>Cash</td>\n",
       "      <td>Male</td>\n",
       "      <td>53</td>\n",
       "      <td>11242</td>\n",
       "      <td>42371</td>\n",
       "      <td>Pink Cab</td>\n",
       "      <td>ATLANTA GA</td>\n",
       "      <td>9.04</td>\n",
       "      <td>125.20</td>\n",
       "      <td>97.632</td>\n",
       "      <td>814885</td>\n",
       "      <td>24701</td>\n",
       "    </tr>\n",
       "    <tr>\n",
       "      <th>11</th>\n",
       "      <td>10000014</td>\n",
       "      <td>28020</td>\n",
       "      <td>Cash</td>\n",
       "      <td>Male</td>\n",
       "      <td>23</td>\n",
       "      <td>23327</td>\n",
       "      <td>42376</td>\n",
       "      <td>Pink Cab</td>\n",
       "      <td>ATLANTA GA</td>\n",
       "      <td>33.17</td>\n",
       "      <td>377.40</td>\n",
       "      <td>351.602</td>\n",
       "      <td>814885</td>\n",
       "      <td>24701</td>\n",
       "    </tr>\n",
       "  </tbody>\n",
       "</table>\n",
       "</div>"
      ],
      "text/plain": [
       "   Transaction ID Customer ID Payment_Mode Gender  Age  Income (USD/Month)  \\\n",
       "0        10000011       29290         Card   Male   28               10813   \n",
       "3        10000012       27703         Card   Male   27                9237   \n",
       "6        10395626       27703         Card   Male   27                9237   \n",
       "7        10000013       28712         Cash   Male   53               11242   \n",
       "11       10000014       28020         Cash   Male   23               23327   \n",
       "\n",
       "   Date of Travel   Company        City  KM Travelled  Price Charged  \\\n",
       "0           42377  Pink Cab  ATLANTA GA         30.45         370.95   \n",
       "3           42375  Pink Cab  ATLANTA GA         28.62         358.52   \n",
       "6           43400  Pink Cab  ATLANTA GA         13.39         167.03   \n",
       "7           42371  Pink Cab  ATLANTA GA          9.04         125.20   \n",
       "11          42376  Pink Cab  ATLANTA GA         33.17         377.40   \n",
       "\n",
       "    Cost of Trip Population    Users  \n",
       "0        313.635    814885    24701   \n",
       "3        334.854    814885    24701   \n",
       "6        141.934    814885    24701   \n",
       "7         97.632    814885    24701   \n",
       "11       351.602    814885    24701   "
      ]
     },
     "execution_count": 41,
     "metadata": {},
     "output_type": "execute_result"
    }
   ],
   "source": [
    "pink.head()"
   ]
  },
  {
   "cell_type": "code",
   "execution_count": 42,
   "metadata": {},
   "outputs": [
    {
     "data": {
      "text/html": [
       "<div>\n",
       "<style scoped>\n",
       "    .dataframe tbody tr th:only-of-type {\n",
       "        vertical-align: middle;\n",
       "    }\n",
       "\n",
       "    .dataframe tbody tr th {\n",
       "        vertical-align: top;\n",
       "    }\n",
       "\n",
       "    .dataframe thead th {\n",
       "        text-align: right;\n",
       "    }\n",
       "</style>\n",
       "<table border=\"1\" class=\"dataframe\">\n",
       "  <thead>\n",
       "    <tr style=\"text-align: right;\">\n",
       "      <th></th>\n",
       "      <th>Transaction ID</th>\n",
       "      <th>Customer ID</th>\n",
       "      <th>Payment_Mode</th>\n",
       "      <th>Gender</th>\n",
       "      <th>Age</th>\n",
       "      <th>Income (USD/Month)</th>\n",
       "      <th>Date of Travel</th>\n",
       "      <th>Company</th>\n",
       "      <th>City</th>\n",
       "      <th>KM Travelled</th>\n",
       "      <th>Price Charged</th>\n",
       "      <th>Cost of Trip</th>\n",
       "      <th>Population</th>\n",
       "      <th>Users</th>\n",
       "    </tr>\n",
       "  </thead>\n",
       "  <tbody>\n",
       "    <tr>\n",
       "      <th>1</th>\n",
       "      <td>10351127</td>\n",
       "      <td>29290</td>\n",
       "      <td>Cash</td>\n",
       "      <td>Male</td>\n",
       "      <td>28</td>\n",
       "      <td>10813</td>\n",
       "      <td>43302</td>\n",
       "      <td>Yellow Cab</td>\n",
       "      <td>ATLANTA GA</td>\n",
       "      <td>26.19</td>\n",
       "      <td>598.70</td>\n",
       "      <td>317.4228</td>\n",
       "      <td>814885</td>\n",
       "      <td>24701</td>\n",
       "    </tr>\n",
       "    <tr>\n",
       "      <th>2</th>\n",
       "      <td>10412921</td>\n",
       "      <td>29290</td>\n",
       "      <td>Card</td>\n",
       "      <td>Male</td>\n",
       "      <td>28</td>\n",
       "      <td>10813</td>\n",
       "      <td>43427</td>\n",
       "      <td>Yellow Cab</td>\n",
       "      <td>ATLANTA GA</td>\n",
       "      <td>42.55</td>\n",
       "      <td>792.05</td>\n",
       "      <td>597.4020</td>\n",
       "      <td>814885</td>\n",
       "      <td>24701</td>\n",
       "    </tr>\n",
       "    <tr>\n",
       "      <th>4</th>\n",
       "      <td>10320494</td>\n",
       "      <td>27703</td>\n",
       "      <td>Card</td>\n",
       "      <td>Male</td>\n",
       "      <td>27</td>\n",
       "      <td>9237</td>\n",
       "      <td>43211</td>\n",
       "      <td>Yellow Cab</td>\n",
       "      <td>ATLANTA GA</td>\n",
       "      <td>36.38</td>\n",
       "      <td>721.10</td>\n",
       "      <td>467.1192</td>\n",
       "      <td>814885</td>\n",
       "      <td>24701</td>\n",
       "    </tr>\n",
       "    <tr>\n",
       "      <th>5</th>\n",
       "      <td>10324737</td>\n",
       "      <td>27703</td>\n",
       "      <td>Cash</td>\n",
       "      <td>Male</td>\n",
       "      <td>27</td>\n",
       "      <td>9237</td>\n",
       "      <td>43224</td>\n",
       "      <td>Yellow Cab</td>\n",
       "      <td>ATLANTA GA</td>\n",
       "      <td>6.18</td>\n",
       "      <td>138.40</td>\n",
       "      <td>87.5088</td>\n",
       "      <td>814885</td>\n",
       "      <td>24701</td>\n",
       "    </tr>\n",
       "    <tr>\n",
       "      <th>8</th>\n",
       "      <td>10079404</td>\n",
       "      <td>28712</td>\n",
       "      <td>Card</td>\n",
       "      <td>Male</td>\n",
       "      <td>53</td>\n",
       "      <td>11242</td>\n",
       "      <td>42634</td>\n",
       "      <td>Yellow Cab</td>\n",
       "      <td>ATLANTA GA</td>\n",
       "      <td>39.60</td>\n",
       "      <td>704.30</td>\n",
       "      <td>494.2080</td>\n",
       "      <td>814885</td>\n",
       "      <td>24701</td>\n",
       "    </tr>\n",
       "  </tbody>\n",
       "</table>\n",
       "</div>"
      ],
      "text/plain": [
       "  Transaction ID Customer ID Payment_Mode Gender  Age  Income (USD/Month)  \\\n",
       "1       10351127       29290         Cash   Male   28               10813   \n",
       "2       10412921       29290         Card   Male   28               10813   \n",
       "4       10320494       27703         Card   Male   27                9237   \n",
       "5       10324737       27703         Cash   Male   27                9237   \n",
       "8       10079404       28712         Card   Male   53               11242   \n",
       "\n",
       "  Date of Travel     Company        City  KM Travelled  Price Charged  \\\n",
       "1          43302  Yellow Cab  ATLANTA GA         26.19         598.70   \n",
       "2          43427  Yellow Cab  ATLANTA GA         42.55         792.05   \n",
       "4          43211  Yellow Cab  ATLANTA GA         36.38         721.10   \n",
       "5          43224  Yellow Cab  ATLANTA GA          6.18         138.40   \n",
       "8          42634  Yellow Cab  ATLANTA GA         39.60         704.30   \n",
       "\n",
       "   Cost of Trip Population    Users  \n",
       "1      317.4228    814885    24701   \n",
       "2      597.4020    814885    24701   \n",
       "4      467.1192    814885    24701   \n",
       "5       87.5088    814885    24701   \n",
       "8      494.2080    814885    24701   "
      ]
     },
     "execution_count": 42,
     "metadata": {},
     "output_type": "execute_result"
    }
   ],
   "source": [
    "yellow.head()"
   ]
  },
  {
   "cell_type": "code",
   "execution_count": 43,
   "metadata": {},
   "outputs": [],
   "source": [
    "# Drop the Company column in pink and yellow dataset as it is no longer significant\n"
   ]
  },
  {
   "cell_type": "markdown",
   "metadata": {},
   "source": [
    "## Company A: Pink Cab"
   ]
  },
  {
   "cell_type": "code",
   "execution_count": 44,
   "metadata": {},
   "outputs": [
    {
     "data": {
      "text/html": [
       "<div>\n",
       "<style scoped>\n",
       "    .dataframe tbody tr th:only-of-type {\n",
       "        vertical-align: middle;\n",
       "    }\n",
       "\n",
       "    .dataframe tbody tr th {\n",
       "        vertical-align: top;\n",
       "    }\n",
       "\n",
       "    .dataframe thead th {\n",
       "        text-align: right;\n",
       "    }\n",
       "</style>\n",
       "<table border=\"1\" class=\"dataframe\">\n",
       "  <thead>\n",
       "    <tr style=\"text-align: right;\">\n",
       "      <th></th>\n",
       "      <th>Age</th>\n",
       "      <th>Income (USD/Month)</th>\n",
       "      <th>KM Travelled</th>\n",
       "      <th>Price Charged</th>\n",
       "      <th>Cost of Trip</th>\n",
       "    </tr>\n",
       "  </thead>\n",
       "  <tbody>\n",
       "    <tr>\n",
       "      <th>count</th>\n",
       "      <td>84711.000000</td>\n",
       "      <td>84711.000000</td>\n",
       "      <td>84711.000000</td>\n",
       "      <td>84711.000000</td>\n",
       "      <td>84711.000000</td>\n",
       "    </tr>\n",
       "    <tr>\n",
       "      <th>mean</th>\n",
       "      <td>35.322414</td>\n",
       "      <td>15059.047137</td>\n",
       "      <td>22.559917</td>\n",
       "      <td>310.800856</td>\n",
       "      <td>248.148682</td>\n",
       "    </tr>\n",
       "    <tr>\n",
       "      <th>std</th>\n",
       "      <td>12.644780</td>\n",
       "      <td>7991.077762</td>\n",
       "      <td>12.231092</td>\n",
       "      <td>181.995661</td>\n",
       "      <td>135.403345</td>\n",
       "    </tr>\n",
       "    <tr>\n",
       "      <th>min</th>\n",
       "      <td>18.000000</td>\n",
       "      <td>2000.000000</td>\n",
       "      <td>1.900000</td>\n",
       "      <td>15.600000</td>\n",
       "      <td>19.000000</td>\n",
       "    </tr>\n",
       "    <tr>\n",
       "      <th>25%</th>\n",
       "      <td>25.000000</td>\n",
       "      <td>8371.000000</td>\n",
       "      <td>12.000000</td>\n",
       "      <td>159.970000</td>\n",
       "      <td>131.868000</td>\n",
       "    </tr>\n",
       "    <tr>\n",
       "      <th>50%</th>\n",
       "      <td>33.000000</td>\n",
       "      <td>14713.000000</td>\n",
       "      <td>22.440000</td>\n",
       "      <td>298.060000</td>\n",
       "      <td>246.330000</td>\n",
       "    </tr>\n",
       "    <tr>\n",
       "      <th>75%</th>\n",
       "      <td>42.000000</td>\n",
       "      <td>21055.000000</td>\n",
       "      <td>32.960000</td>\n",
       "      <td>441.505000</td>\n",
       "      <td>360.180000</td>\n",
       "    </tr>\n",
       "    <tr>\n",
       "      <th>max</th>\n",
       "      <td>65.000000</td>\n",
       "      <td>35000.000000</td>\n",
       "      <td>48.000000</td>\n",
       "      <td>1623.480000</td>\n",
       "      <td>576.000000</td>\n",
       "    </tr>\n",
       "  </tbody>\n",
       "</table>\n",
       "</div>"
      ],
      "text/plain": [
       "                Age  Income (USD/Month)  KM Travelled  Price Charged  \\\n",
       "count  84711.000000        84711.000000  84711.000000   84711.000000   \n",
       "mean      35.322414        15059.047137     22.559917     310.800856   \n",
       "std       12.644780         7991.077762     12.231092     181.995661   \n",
       "min       18.000000         2000.000000      1.900000      15.600000   \n",
       "25%       25.000000         8371.000000     12.000000     159.970000   \n",
       "50%       33.000000        14713.000000     22.440000     298.060000   \n",
       "75%       42.000000        21055.000000     32.960000     441.505000   \n",
       "max       65.000000        35000.000000     48.000000    1623.480000   \n",
       "\n",
       "       Cost of Trip  \n",
       "count  84711.000000  \n",
       "mean     248.148682  \n",
       "std      135.403345  \n",
       "min       19.000000  \n",
       "25%      131.868000  \n",
       "50%      246.330000  \n",
       "75%      360.180000  \n",
       "max      576.000000  "
      ]
     },
     "execution_count": 44,
     "metadata": {},
     "output_type": "execute_result"
    }
   ],
   "source": [
    "pink.describe()"
   ]
  },
  {
   "cell_type": "code",
   "execution_count": 45,
   "metadata": {},
   "outputs": [
    {
     "data": {
      "text/plain": [
       "(84711, 14)"
      ]
     },
     "execution_count": 45,
     "metadata": {},
     "output_type": "execute_result"
    }
   ],
   "source": [
    "pink.shape"
   ]
  },
  {
   "cell_type": "code",
   "execution_count": 46,
   "metadata": {},
   "outputs": [
    {
     "name": "stdout",
     "output_type": "stream",
     "text": [
      "<class 'pandas.core.frame.DataFrame'>\n",
      "Int64Index: 84711 entries, 0 to 359363\n",
      "Data columns (total 14 columns):\n",
      "Transaction ID        84711 non-null object\n",
      "Customer ID           84711 non-null object\n",
      "Payment_Mode          84711 non-null object\n",
      "Gender                84711 non-null object\n",
      "Age                   84711 non-null int64\n",
      "Income (USD/Month)    84711 non-null int64\n",
      "Date of Travel        84711 non-null object\n",
      "Company               84711 non-null object\n",
      "City                  84711 non-null object\n",
      "KM Travelled          84711 non-null float64\n",
      "Price Charged         84711 non-null float64\n",
      "Cost of Trip          84711 non-null float64\n",
      "Population            84711 non-null object\n",
      "Users                 84711 non-null object\n",
      "dtypes: float64(3), int64(2), object(9)\n",
      "memory usage: 9.7+ MB\n"
     ]
    }
   ],
   "source": [
    "pink.info()"
   ]
  },
  {
   "cell_type": "code",
   "execution_count": 47,
   "metadata": {},
   "outputs": [
    {
     "data": {
      "text/plain": [
       "Index(['Transaction ID', 'Customer ID', 'Payment_Mode', 'Gender', 'Age',\n",
       "       'Income (USD/Month)', 'Date of Travel', 'Company', 'City',\n",
       "       'KM Travelled', 'Price Charged', 'Cost of Trip', 'Population', 'Users'],\n",
       "      dtype='object')"
      ]
     },
     "execution_count": 47,
     "metadata": {},
     "output_type": "execute_result"
    }
   ],
   "source": [
    "pink.columns"
   ]
  },
  {
   "cell_type": "markdown",
   "metadata": {},
   "source": [
    "The pink dataset has 84711 values with 13 rows. There are no null values.We now proceed to data analysis.  "
   ]
  },
  {
   "cell_type": "code",
   "execution_count": 48,
   "metadata": {},
   "outputs": [
    {
     "name": "stdout",
     "output_type": "stream",
     "text": [
      "Frequency Distribution: \n",
      " Male      47231\n",
      "Female    37480\n",
      "Name: Gender, dtype: int64\n",
      "Percentage Distribution\n",
      " Male      0.557555\n",
      "Female    0.442445\n",
      "Name: Gender, dtype: float64\n"
     ]
    },
    {
     "data": {
      "image/png": "[encoded data removed]",
      "text/plain": [
       "<Figure size 432x288 with 1 Axes>"
      ]
     },
     "metadata": {},
     "output_type": "display_data"
    }
   ],
   "source": [
    "# Gender Distribution\n",
    "\n",
    "# Frequency Distribution\n",
    "print('Frequency Distribution: ' \"\\n\",pink['Gender'].value_counts())\n",
    "\n",
    "#Percentage Distribution\n",
    "print('Percentage Distribution' \"\\n\", pink['Gender'].value_counts(normalize=True))\n",
    "\n",
    "# Graph\n",
    "sns.set()\n",
    "pink['Gender'].value_counts().plot.barh(color=['blue','orange'])\n",
    "plt.xlabel('Number')\n",
    "plt.ylabel('Company')\n",
    "plt.title('Number of Transactions')\n",
    "plt.show()"
   ]
  },
  {
   "cell_type": "code",
   "execution_count": 49,
   "metadata": {},
   "outputs": [
    {
     "name": "stdout",
     "output_type": "stream",
     "text": [
      "LOS ANGELES CA    19865\n",
      "NEW YORK NY       13967\n",
      "SAN DIEGO CA      10672\n",
      "CHICAGO IL         9361\n",
      "BOSTON MA          5186\n",
      "SILICON VALLEY     3797\n",
      "WASHINGTON DC      3692\n",
      "SEATTLE WA         2732\n",
      "MIAMI FL           2002\n",
      "AUSTIN TX          1868\n",
      "NASHVILLE TN       1841\n",
      "ATLANTA GA         1762\n",
      "ORANGE COUNTY      1513\n",
      "DENVER CO          1394\n",
      "DALLAS TX          1380\n",
      "SACRAMENTO CA      1334\n",
      "PHOENIX AZ          864\n",
      "TUCSON AZ           799\n",
      "PITTSBURGH PA       682\n",
      "Name: City, dtype: int64\n"
     ]
    },
    {
     "data": {
      "image/png": "[encoded data removed]",
      "text/plain": [
       "<Figure size 1080x576 with 1 Axes>"
      ]
     },
     "metadata": {},
     "output_type": "display_data"
    }
   ],
   "source": [
    "# City Distribution \n",
    "print(pink['City'].value_counts())\n",
    "\n",
    "# Graph\n",
    "sns.set(rc = {'figure.figsize':(15,8)})\n",
    "pink['City'].value_counts().plot.bar()\n",
    "plt.xlabel('City')\n",
    "plt.ylabel('Number of Transactions')\n",
    "plt.title('Number of Transactions in each City - Pink Cab')\n",
    "plt.show()"
   ]
  },
  {
   "cell_type": "code",
   "execution_count": 50,
   "metadata": {},
   "outputs": [
    {
     "name": "stdout",
     "output_type": "stream",
     "text": [
      "NEW YORK NY       85918\n",
      "CHICAGO IL        47264\n",
      "WASHINGTON DC     40045\n",
      "LOS ANGELES CA    28168\n",
      "BOSTON MA         24506\n",
      "SAN DIEGO CA       9816\n",
      "ATLANTA GA         5795\n",
      "DALLAS TX          5637\n",
      "SEATTLE WA         5265\n",
      "SILICON VALLEY     4722\n",
      "MIAMI FL           4452\n",
      "AUSTIN TX          3028\n",
      "ORANGE COUNTY      2469\n",
      "DENVER CO          2431\n",
      "PHOENIX AZ         1200\n",
      "NASHVILLE TN       1169\n",
      "TUCSON AZ          1132\n",
      "SACRAMENTO CA      1033\n",
      "PITTSBURGH PA       631\n",
      "Name: City, dtype: int64\n"
     ]
    },
    {
     "data": {
      "image/png": "[encoded data removed]",
      "text/plain": [
       "<Figure size 1080x576 with 1 Axes>"
      ]
     },
     "metadata": {},
     "output_type": "display_data"
    }
   ],
   "source": [
    "# City Distribution \n",
    "print(yellow['City'].value_counts())\n",
    "\n",
    "# Graph\n",
    "sns.set(rc = {'figure.figsize':(15,8)})\n",
    "yellow['City'].value_counts().plot.bar()\n",
    "plt.xlabel('City')\n",
    "plt.ylabel('Number of Transactions')\n",
    "plt.title('Number of Transactions in each City - Yellow Cab')\n",
    "plt.show()"
   ]
  },
  {
   "cell_type": "code",
   "execution_count": 130,
   "metadata": {},
   "outputs": [
    {
     "name": "stdout",
     "output_type": "stream",
     "text": [
      "              City  Transactions Pink  Transactions Yellow\n",
      "0   LOS ANGELES CA              19865                28168\n",
      "1      NEW YORK NY              13967                85918\n",
      "2     SAN DIEGO CA              10672                 9816\n",
      "3       CHICAGO IL               9361                47264\n",
      "4        BOSTON MA               5186                24506\n",
      "5   SILICON VALLEY               3797                 4722\n",
      "6    WASHINGTON DC               3692                40045\n",
      "7       SEATTLE WA               2732                 5265\n",
      "8         MIAMI FL               2002                 4452\n",
      "9        AUSTIN TX               1868                 3028\n",
      "10    NASHVILLE TN               1841                 1169\n",
      "11      ATLANTA GA               1762                 5795\n",
      "12   ORANGE COUNTY               1513                 2469\n",
      "13       DENVER CO               1394                 2431\n",
      "14       DALLAS TX               1380                 5637\n",
      "15   SACRAMENTO CA               1334                 1033\n",
      "16      PHOENIX AZ                864                 1200\n",
      "17       TUCSON AZ                799                 1132\n",
      "18   PITTSBURGH PA                682                  631\n"
     ]
    },
    {
     "data": {
      "image/png": "[encoded data removed]",
      "text/plain": [
       "<Figure size 1080x576 with 1 Axes>"
      ]
     },
     "metadata": {},
     "output_type": "display_data"
    }
   ],
   "source": [
    "# Putting the two graphs together to observe different number of transactions in different cities by the two companies.\n",
    "PinkCities=pd.DataFrame(pink['City'].value_counts())\n",
    "PinkCities.reset_index(inplace=True)\n",
    "PinkCities=PinkCities.rename(columns={'index':'City','City':'Transactions Pink'})\n",
    "YellowCities=pd.DataFrame(yellow['City'].value_counts())\n",
    "YellowCities.reset_index(inplace=True)\n",
    "YellowCities=YellowCities.rename(columns={'index':'City','City':'Transactions Yellow'})\n",
    "\n",
    "TransactionsCities=pd.merge(PinkCities,YellowCities,on='City')\n",
    "print(TransactionsCities)\n",
    "\n",
    "\n",
    "x=np.arange(19)\n",
    "y1=TransactionsCities['Transactions Pink']\n",
    "y2=TransactionsCities['Transactions Yellow']\n",
    "width=0.4\n",
    "\n",
    "plt.bar(x-0.2,y1,width,label=\"Pink Cab\",color=\"red\")\n",
    "plt.bar(x+0.2,y2,width,label=\"Yellow Cab\",color=\"green\")\n",
    "plt.xlabel(\"Cities\")\n",
    "plt.ylabel(\"Number of Transactions\")\n",
    "plt.title(\"Transactions in different cities for each company\")\n",
    "plt.xticks(x,TransactionsCities['City'],rotation=90)\n",
    "plt.legend()\n",
    "plt.show()"
   ]
  },
  {
   "cell_type": "markdown",
   "metadata": {},
   "source": [
    "From the above graph, however much yellow cab has more business, pink cab has a higher business in some cities such as San Diego, Nashville, Sacramento and Pittsburgh. Let's now graph all this as a percentage of transactions."
   ]
  },
  {
   "cell_type": "code",
   "execution_count": 131,
   "metadata": {},
   "outputs": [
    {
     "name": "stdout",
     "output_type": "stream",
     "text": [
      "              City  Transactions Pink  Transactions Yellow\n",
      "0   LOS ANGELES CA           0.234503             0.102548\n",
      "1      NEW YORK NY           0.164878             0.312792\n",
      "2     SAN DIEGO CA           0.125981             0.035736\n",
      "3       CHICAGO IL           0.110505             0.172069\n",
      "4        BOSTON MA           0.061220             0.089216\n",
      "5   SILICON VALLEY           0.044823             0.017191\n",
      "6    WASHINGTON DC           0.043583             0.145787\n",
      "7       SEATTLE WA           0.032251             0.019168\n",
      "8         MIAMI FL           0.023633             0.016208\n",
      "9        AUSTIN TX           0.022051             0.011024\n",
      "10    NASHVILLE TN           0.021733             0.004256\n",
      "11      ATLANTA GA           0.020800             0.021097\n",
      "12   ORANGE COUNTY           0.017861             0.008989\n",
      "13       DENVER CO           0.016456             0.008850\n",
      "14       DALLAS TX           0.016291             0.020522\n",
      "15   SACRAMENTO CA           0.015748             0.003761\n",
      "16      PHOENIX AZ           0.010199             0.004369\n",
      "17       TUCSON AZ           0.009432             0.004121\n",
      "18   PITTSBURGH PA           0.008051             0.002297\n"
     ]
    },
    {
     "data": {
      "image/png": "[encoded data removed]",
      "text/plain": [
       "<Figure size 1080x576 with 1 Axes>"
      ]
     },
     "metadata": {},
     "output_type": "display_data"
    }
   ],
   "source": [
    "PinkCitiesPer=pd.DataFrame(pink['City'].value_counts(normalize=True))\n",
    "PinkCitiesPer.reset_index(inplace=True)\n",
    "PinkCitiesPer=PinkCitiesPer.rename(columns={'index':'City','City':'Transactions Pink'})\n",
    "YellowCitiesPer=pd.DataFrame(yellow['City'].value_counts(normalize=True))\n",
    "YellowCitiesPer.reset_index(inplace=True)\n",
    "YellowCitiesPer=YellowCitiesPer.rename(columns={'index':'City','City':'Transactions Yellow'})\n",
    "\n",
    "TransactionsCitiesPer=pd.merge(PinkCitiesPer,YellowCitiesPer,on='City')\n",
    "print(TransactionsCitiesPer)\n",
    "\n",
    "\n",
    "x=np.arange(19)\n",
    "y1=TransactionsCitiesPer['Transactions Pink']\n",
    "y2=TransactionsCitiesPer['Transactions Yellow']\n",
    "width=0.4\n",
    "\n",
    "plt.bar(x-0.2,y1,width,label=\"Pink Cab\",color=\"red\")\n",
    "plt.bar(x+0.2,y2,width,label=\"Yellow Cab\",color=\"green\")\n",
    "plt.xlabel(\"Cities\")\n",
    "plt.ylabel(\"Number of Transactions\")\n",
    "plt.title(\"Transactions in different cities for each company\")\n",
    "plt.xticks(x,TransactionsCitiesPer['City'],rotation=90)\n",
    "plt.legend()\n",
    "plt.show()"
   ]
  },
  {
   "cell_type": "code",
   "execution_count": null,
   "metadata": {},
   "outputs": [],
   "source": []
  },
  {
   "cell_type": "code",
   "execution_count": 52,
   "metadata": {},
   "outputs": [
    {
     "name": "stdout",
     "output_type": "stream",
     "text": [
      "(0.173, 0.256]        0\n",
      "(0.0897, 0.173]       1\n",
      "(0.256, 0.339]        3\n",
      "(0.00516, 0.0897]    16\n",
      "Name: Rate of Usage, dtype: int64\n",
      "count    20.000000\n",
      "mean      0.074440\n",
      "std       0.109301\n",
      "min       0.006497\n",
      "25%       0.013126\n",
      "50%       0.025914\n",
      "75%       0.075753\n",
      "max       0.339282\n",
      "Name: Rate of Usage, dtype: float64\n"
     ]
    },
    {
     "data": {
      "image/png": "[encoded data removed]",
      "text/plain": [
       "<Figure size 1080x576 with 1 Axes>"
      ]
     },
     "metadata": {},
     "output_type": "display_data"
    }
   ],
   "source": [
    "# Comparing population of different cities with the number of users.\n",
    "city['Rate of Usage']=city['Users'].str.replace(',','').astype(int)/city['Population'].str.replace(',','').astype(int)\n",
    "\n",
    "print(city['Rate of Usage'].value_counts(bins=4,ascending=True))\n",
    "print(city['Rate of Usage'].describe())\n",
    "\n",
    "plt.bar(city['City'],city['Rate of Usage'])\n",
    "plt.xlabel('City')\n",
    "plt.ylabel('Rate of Usage')\n",
    "plt.title('Rate of Usage in each City')\n",
    "plt.xticks(rotation=90)\n",
    "plt.show()"
   ]
  },
  {
   "cell_type": "markdown",
   "metadata": {},
   "source": [
    "From the data analysis above, we obtain the following observations: \n",
    "1. The maximum rate of usage: 33.93% and minimum rate of usage: 0.6497%\n",
    "2. Only 3 cities have a rate of usage greater than 25%\n",
    "3. 75% of the cities have a rate of usage less than 7.6%\n",
    "4. No city has a rate of usage between 17.3% and 35%\n",
    "5. Mean rate of usage is 7.444%\n",
    "\n",
    "All this observations imply that there is little uptake of the cab business by all cities, and despite LA having the largest number of transactions, it still serves a very small percentage of the city. This implies that efforts should be made towards uptake of the cab business by both companies through advertising, marketing through promotions, discounts."
   ]
  },
  {
   "cell_type": "code",
   "execution_count": 53,
   "metadata": {},
   "outputs": [
    {
     "name": "stdout",
     "output_type": "stream",
     "text": [
      "Maximum transactions by a customer:  18\n",
      "Minimum transactions by a customer:  1\n",
      "1     14334\n",
      "2      6448\n",
      "3      3586\n",
      "4      2447\n",
      "5      1825\n",
      "6      1299\n",
      "7       921\n",
      "8       610\n",
      "9       368\n",
      "10      252\n",
      "11      127\n",
      "12       63\n",
      "13       22\n",
      "14       14\n",
      "15        7\n",
      "17        3\n",
      "16        3\n",
      "18        1\n",
      "Name: Transactions, dtype: int64\n",
      "1     0.443365\n",
      "2     0.199443\n",
      "3     0.110919\n",
      "4     0.075688\n",
      "5     0.056449\n",
      "6     0.040179\n",
      "7     0.028487\n",
      "8     0.018868\n",
      "9     0.011383\n",
      "10    0.007795\n",
      "11    0.003928\n",
      "12    0.001949\n",
      "13    0.000680\n",
      "14    0.000433\n",
      "15    0.000217\n",
      "17    0.000093\n",
      "16    0.000093\n",
      "18    0.000031\n",
      "Name: Transactions, dtype: float64\n"
     ]
    },
    {
     "data": {
      "text/plain": [
       "count    32330.000000\n",
       "mean         2.620198\n",
       "std          2.193812\n",
       "min          1.000000\n",
       "25%          1.000000\n",
       "50%          2.000000\n",
       "75%          3.000000\n",
       "max         18.000000\n",
       "Name: Transactions, dtype: float64"
      ]
     },
     "execution_count": 53,
     "metadata": {},
     "output_type": "execute_result"
    }
   ],
   "source": [
    "# Customer Distribution\n",
    "\n",
    "print(\"Maximum transactions by a customer: \" , pink['Customer ID'].value_counts().max())\n",
    "print(\"Minimum transactions by a customer: \" , pink['Customer ID'].value_counts().min())\n",
    "\n",
    "# New dataframe to capture number of transactions of different customers\n",
    "counts=pd.DataFrame(pink['Customer ID'].value_counts())\n",
    "counts.reset_index(inplace=True)\n",
    "counts = counts.rename(columns = {'index':'Customer ID','Customer ID':'Transactions'})\n",
    "counts.head()\n",
    "print(counts['Transactions'].value_counts())\n",
    "print(counts['Transactions'].value_counts(normalize=True))\n",
    "\n",
    "counts['Transactions'].describe()\n",
    "\n"
   ]
  },
  {
   "cell_type": "markdown",
   "metadata": {},
   "source": [
    "There are only 240 unique customers with over 10 transactions, out of the 32330 unique customers. The data is positively skewed, lowering the mean number of transactions to 2.62, which is equivalent to 3. This may suggest that the company is doing a poor job at customer retention. 44.33% of the customers have only used the app once, which is almost half of the unique customers registered with the app. About 75% have less than 4 transactions. "
   ]
  },
  {
   "cell_type": "code",
   "execution_count": 54,
   "metadata": {},
   "outputs": [
    {
     "name": "stdout",
     "output_type": "stream",
     "text": [
      "Payment Modes of Pink Cab: \n",
      " Card    0.59873\n",
      "Cash    0.40127\n",
      "Name: Payment_Mode, dtype: float64\n",
      "Payment Modes of Yellow Cab:\n",
      " Card    0.599914\n",
      "Cash    0.400086\n",
      "Name: Payment_Mode, dtype: float64\n",
      "Payment Modes of Both Companies:\n",
      " Card    0.599635\n",
      "Cash    0.400365\n",
      "Name: Payment_Mode, dtype: float64\n"
     ]
    }
   ],
   "source": [
    "# Payment Modes\n",
    "print('Payment Modes of Pink Cab: ' \"\\n\" ,pink['Payment_Mode'].value_counts(normalize=True))\n",
    "print('Payment Modes of Yellow Cab:' \"\\n\", yellow['Payment_Mode'].value_counts(normalize=True))\n",
    "print('Payment Modes of Both Companies:' \"\\n\", data['Payment_Mode'].value_counts(normalize=True))"
   ]
  },
  {
   "cell_type": "markdown",
   "metadata": {},
   "source": [
    "60% of customers pay using card, while the rest using cash. This proportion is similar in both companies. "
   ]
  },
  {
   "cell_type": "code",
   "execution_count": 55,
   "metadata": {},
   "outputs": [
    {
     "data": {
      "text/plain": [
       "Index(['Transaction ID', 'Customer ID', 'Payment_Mode', 'Gender', 'Age',\n",
       "       'Income (USD/Month)', 'Date of Travel', 'Company', 'City',\n",
       "       'KM Travelled', 'Price Charged', 'Cost of Trip', 'Population', 'Users'],\n",
       "      dtype='object')"
      ]
     },
     "execution_count": 55,
     "metadata": {},
     "output_type": "execute_result"
    }
   ],
   "source": [
    "data.columns"
   ]
  },
  {
   "cell_type": "code",
   "execution_count": 56,
   "metadata": {},
   "outputs": [
    {
     "name": "stdout",
     "output_type": "stream",
     "text": [
      "count    359392.000000\n",
      "mean         35.336705\n",
      "std          12.594234\n",
      "min          18.000000\n",
      "25%          25.000000\n",
      "50%          33.000000\n",
      "75%          42.000000\n",
      "max          65.000000\n",
      "Name: Age, dtype: float64\n"
     ]
    },
    {
     "data": {
      "text/plain": [
       "Text(0.5,1,'Age Distribution on a Histogram of both companies')"
      ]
     },
     "execution_count": 56,
     "metadata": {},
     "output_type": "execute_result"
    },
    {
     "data": {
      "image/png": "[encoded data removed]",
      "text/plain": [
       "<Figure size 1080x576 with 1 Axes>"
      ]
     },
     "metadata": {},
     "output_type": "display_data"
    }
   ],
   "source": [
    "# Age Distribution\n",
    "print(data['Age'].describe())\n",
    "plt.hist(data['Age'],bins=10)\n",
    "plt.title('Age Distribution on a Histogram of both companies')\n"
   ]
  },
  {
   "cell_type": "code",
   "execution_count": 57,
   "metadata": {},
   "outputs": [
    {
     "name": "stderr",
     "output_type": "stream",
     "text": [
      "/home/miano/anaconda3/lib/python3.6/site-packages/matplotlib/axes/_axes.py:6462: UserWarning: The 'normed' kwarg is deprecated, and has been replaced by the 'density' kwarg.\n",
      "  warnings.warn(\"The 'normed' kwarg is deprecated, and has been \"\n"
     ]
    },
    {
     "data": {
      "image/png": "[encoded data removed]",
      "text/plain": [
       "<Figure size 1152x360 with 2 Axes>"
      ]
     },
     "metadata": {},
     "output_type": "display_data"
    }
   ],
   "source": [
    "#Box plot\n",
    "# Visualizing Age distribution from the data from both companies\n",
    "# plt.figure(1)\n",
    "plt.subplot(121)\n",
    "sns.distplot(data['Age']);\n",
    "\n",
    "plt.subplot(122)\n",
    "data['Age'].plot.box(figsize=(16,5))\n",
    "\n",
    "plt.show()"
   ]
  },
  {
   "cell_type": "markdown",
   "metadata": {},
   "source": [
    "From the above diagrams, we can established that 75% of the transactions are from customers who are between 18 and 42 years of age. People above this age but below 66 use the service rarely which makes sense in the real world. Let's further analyse these insights on the customer data."
   ]
  },
  {
   "cell_type": "code",
   "execution_count": 58,
   "metadata": {},
   "outputs": [
    {
     "name": "stdout",
     "output_type": "stream",
     "text": [
      "(46148, 5)\n",
      "<class 'pandas.core.frame.DataFrame'>\n",
      "RangeIndex: 46148 entries, 0 to 46147\n",
      "Data columns (total 2 columns):\n",
      "Customer ID               46148 non-null object\n",
      "Number of Transactions    46148 non-null int64\n",
      "dtypes: int64(1), object(1)\n",
      "memory usage: 721.1+ KB\n",
      "None\n"
     ]
    },
    {
     "data": {
      "text/html": [
       "<div>\n",
       "<style scoped>\n",
       "    .dataframe tbody tr th:only-of-type {\n",
       "        vertical-align: middle;\n",
       "    }\n",
       "\n",
       "    .dataframe tbody tr th {\n",
       "        vertical-align: top;\n",
       "    }\n",
       "\n",
       "    .dataframe thead th {\n",
       "        text-align: right;\n",
       "    }\n",
       "</style>\n",
       "<table border=\"1\" class=\"dataframe\">\n",
       "  <thead>\n",
       "    <tr style=\"text-align: right;\">\n",
       "      <th></th>\n",
       "      <th>Customer ID</th>\n",
       "      <th>Gender</th>\n",
       "      <th>Age</th>\n",
       "      <th>Income (USD/Month)</th>\n",
       "      <th>Number of Transactions</th>\n",
       "    </tr>\n",
       "  </thead>\n",
       "  <tbody>\n",
       "    <tr>\n",
       "      <th>0</th>\n",
       "      <td>29290</td>\n",
       "      <td>Male</td>\n",
       "      <td>28</td>\n",
       "      <td>10813</td>\n",
       "      <td>3</td>\n",
       "    </tr>\n",
       "    <tr>\n",
       "      <th>1</th>\n",
       "      <td>27703</td>\n",
       "      <td>Male</td>\n",
       "      <td>27</td>\n",
       "      <td>9237</td>\n",
       "      <td>4</td>\n",
       "    </tr>\n",
       "    <tr>\n",
       "      <th>2</th>\n",
       "      <td>28712</td>\n",
       "      <td>Male</td>\n",
       "      <td>53</td>\n",
       "      <td>11242</td>\n",
       "      <td>4</td>\n",
       "    </tr>\n",
       "    <tr>\n",
       "      <th>3</th>\n",
       "      <td>28020</td>\n",
       "      <td>Male</td>\n",
       "      <td>23</td>\n",
       "      <td>23327</td>\n",
       "      <td>4</td>\n",
       "    </tr>\n",
       "    <tr>\n",
       "      <th>4</th>\n",
       "      <td>27182</td>\n",
       "      <td>Male</td>\n",
       "      <td>33</td>\n",
       "      <td>8536</td>\n",
       "      <td>4</td>\n",
       "    </tr>\n",
       "  </tbody>\n",
       "</table>\n",
       "</div>"
      ],
      "text/plain": [
       "  Customer ID Gender  Age  Income (USD/Month)  Number of Transactions\n",
       "0       29290   Male   28               10813                       3\n",
       "1       27703   Male   27                9237                       4\n",
       "2       28712   Male   53               11242                       4\n",
       "3       28020   Male   23               23327                       4\n",
       "4       27182   Male   33                8536                       4"
      ]
     },
     "execution_count": 58,
     "metadata": {},
     "output_type": "execute_result"
    }
   ],
   "source": [
    "# Age distribution of customers\n",
    "# Create new column with number of transactions of different customers\n",
    "number_transactions=pd.DataFrame(data['Customer ID'].value_counts())\n",
    "\n",
    "number_transactions.reset_index(inplace=True)\n",
    "number_transactions = number_transactions.rename(columns = {'index':'Customer ID','Customer ID':'Number of Transactions'})\n",
    "number_transactions['Customer ID']=number_transactions['Customer ID'].astype(object)\n",
    "number_transactions.head()\n",
    "\n",
    "# Merge with customer data\n",
    "customer=pd.merge(customer,number_transactions,on='Customer ID')\n",
    "print(customer.shape)\n",
    "print(number_transactions.info())\n",
    "customer.head()"
   ]
  },
  {
   "cell_type": "code",
   "execution_count": 59,
   "metadata": {},
   "outputs": [
    {
     "data": {
      "text/html": [
       "<div>\n",
       "<style scoped>\n",
       "    .dataframe tbody tr th:only-of-type {\n",
       "        vertical-align: middle;\n",
       "    }\n",
       "\n",
       "    .dataframe tbody tr th {\n",
       "        vertical-align: top;\n",
       "    }\n",
       "\n",
       "    .dataframe thead th {\n",
       "        text-align: right;\n",
       "    }\n",
       "</style>\n",
       "<table border=\"1\" class=\"dataframe\">\n",
       "  <thead>\n",
       "    <tr style=\"text-align: right;\">\n",
       "      <th></th>\n",
       "      <th>Customer ID</th>\n",
       "      <th>Gender</th>\n",
       "      <th>Age</th>\n",
       "      <th>Income (USD/Month)</th>\n",
       "      <th>Number of Transactions</th>\n",
       "      <th>Number of Transactions_Pink</th>\n",
       "      <th>Number of Transactions_Yellow</th>\n",
       "    </tr>\n",
       "  </thead>\n",
       "  <tbody>\n",
       "    <tr>\n",
       "      <th>0</th>\n",
       "      <td>29290</td>\n",
       "      <td>Male</td>\n",
       "      <td>28</td>\n",
       "      <td>10813</td>\n",
       "      <td>3</td>\n",
       "      <td>1</td>\n",
       "      <td>2</td>\n",
       "    </tr>\n",
       "    <tr>\n",
       "      <th>1</th>\n",
       "      <td>27703</td>\n",
       "      <td>Male</td>\n",
       "      <td>27</td>\n",
       "      <td>9237</td>\n",
       "      <td>4</td>\n",
       "      <td>2</td>\n",
       "      <td>2</td>\n",
       "    </tr>\n",
       "    <tr>\n",
       "      <th>2</th>\n",
       "      <td>28712</td>\n",
       "      <td>Male</td>\n",
       "      <td>53</td>\n",
       "      <td>11242</td>\n",
       "      <td>4</td>\n",
       "      <td>1</td>\n",
       "      <td>3</td>\n",
       "    </tr>\n",
       "    <tr>\n",
       "      <th>3</th>\n",
       "      <td>28020</td>\n",
       "      <td>Male</td>\n",
       "      <td>23</td>\n",
       "      <td>23327</td>\n",
       "      <td>4</td>\n",
       "      <td>3</td>\n",
       "      <td>1</td>\n",
       "    </tr>\n",
       "    <tr>\n",
       "      <th>4</th>\n",
       "      <td>27182</td>\n",
       "      <td>Male</td>\n",
       "      <td>33</td>\n",
       "      <td>8536</td>\n",
       "      <td>4</td>\n",
       "      <td>1</td>\n",
       "      <td>3</td>\n",
       "    </tr>\n",
       "  </tbody>\n",
       "</table>\n",
       "</div>"
      ],
      "text/plain": [
       "  Customer ID Gender  Age  Income (USD/Month)  Number of Transactions  \\\n",
       "0       29290   Male   28               10813                       3   \n",
       "1       27703   Male   27                9237                       4   \n",
       "2       28712   Male   53               11242                       4   \n",
       "3       28020   Male   23               23327                       4   \n",
       "4       27182   Male   33                8536                       4   \n",
       "\n",
       "   Number of Transactions_Pink  Number of Transactions_Yellow  \n",
       "0                            1                              2  \n",
       "1                            2                              2  \n",
       "2                            1                              3  \n",
       "3                            3                              1  \n",
       "4                            1                              3  "
      ]
     },
     "execution_count": 59,
     "metadata": {},
     "output_type": "execute_result"
    }
   ],
   "source": [
    "# Add two columns on the customer data with number of transactions from pink cab and yellow cab\n",
    "\n",
    "#Pink Cab\n",
    "number_transactionsPink=pd.DataFrame(pink['Customer ID'].value_counts())\n",
    "\n",
    "number_transactionsPink.reset_index(inplace=True)\n",
    "number_transactionsPink = number_transactionsPink.rename(columns = {'index':'Customer ID','Customer ID':'Number of Transactions_Pink'})\n",
    "number_transactionsPink['Customer ID']=number_transactionsPink['Customer ID'].astype(object)\n",
    "number_transactionsPink.head()\n",
    "\n",
    "# Merge with customer data\n",
    "customer=pd.merge(customer,number_transactionsPink,on='Customer ID')\n",
    "\n",
    "#Yellow Cab\n",
    "number_transactionsYellow=pd.DataFrame(yellow['Customer ID'].value_counts())\n",
    "\n",
    "number_transactionsYellow.reset_index(inplace=True)\n",
    "number_transactionsYellow = number_transactionsYellow.rename(columns = {'index':'Customer ID','Customer ID':'Number of Transactions_Yellow'})\n",
    "number_transactionsYellow['Customer ID']=number_transactionsYellow['Customer ID'].astype(object)\n",
    "number_transactionsYellow.head()\n",
    "\n",
    "# Merge with customer data\n",
    "customer=pd.merge(customer,number_transactionsYellow,on='Customer ID')\n",
    "customer.head()"
   ]
  },
  {
   "cell_type": "code",
   "execution_count": 81,
   "metadata": {},
   "outputs": [
    {
     "name": "stdout",
     "output_type": "stream",
     "text": [
      "<class 'pandas.core.frame.DataFrame'>\n",
      "Int64Index: 26078 entries, 0 to 26077\n",
      "Data columns (total 7 columns):\n",
      "Customer ID                      26078 non-null object\n",
      "Gender                           26078 non-null object\n",
      "Age                              26078 non-null int64\n",
      "Income (USD/Month)               26078 non-null int64\n",
      "Number of Transactions           26078 non-null int64\n",
      "Number of Transactions_Pink      26078 non-null int64\n",
      "Number of Transactions_Yellow    26078 non-null int64\n",
      "dtypes: int64(5), object(2)\n",
      "memory usage: 1.6+ MB\n"
     ]
    }
   ],
   "source": [
    "customer.info()"
   ]
  },
  {
   "cell_type": "code",
   "execution_count": 68,
   "metadata": {},
   "outputs": [
    {
     "data": {
      "image/png": "[encoded data removed]",
      "text/plain": [
       "<Figure size 1080x576 with 1 Axes>"
      ]
     },
     "metadata": {},
     "output_type": "display_data"
    }
   ],
   "source": [
    "\n",
    "plt.bar(customer['Age'],customer['Number of Transactions'])\n",
    "plt.title(\"Number of Transactions of different ages\")\n",
    "plt.ylabel(\"Number of Transactions\")\n",
    "plt.xlabel(\"Age\")\n",
    "plt.show()\n"
   ]
  },
  {
   "cell_type": "code",
   "execution_count": 69,
   "metadata": {},
   "outputs": [
    {
     "data": {
      "image/png": "[encoded data removed]",
      "text/plain": [
       "<Figure size 1080x576 with 1 Axes>"
      ]
     },
     "metadata": {},
     "output_type": "display_data"
    },
    {
     "data": {
      "text/plain": [
       "count    26078.000000\n",
       "mean         8.981824\n",
       "std          9.049839\n",
       "min          1.000000\n",
       "25%          2.000000\n",
       "50%          5.000000\n",
       "75%         13.000000\n",
       "max         47.000000\n",
       "Name: Number of Transactions_Yellow, dtype: float64"
      ]
     },
     "execution_count": 69,
     "metadata": {},
     "output_type": "execute_result"
    }
   ],
   "source": [
    "plt.bar(customer['Age'],customer['Number of Transactions_Yellow'])\n",
    "plt.title(\"Number of Transactions of different ages - Yellow Cab\")\n",
    "plt.ylabel(\"Number of Transactions\")\n",
    "plt.xlabel(\"Age\")\n",
    "plt.show()\n",
    "customer['Number of Transactions_Yellow'].describe()"
   ]
  },
  {
   "cell_type": "code",
   "execution_count": 70,
   "metadata": {},
   "outputs": [
    {
     "data": {
      "image/png": "[encoded data removed]",
      "text/plain": [
       "<Figure size 1080x576 with 1 Axes>"
      ]
     },
     "metadata": {},
     "output_type": "display_data"
    },
    {
     "data": {
      "text/plain": [
       "count    26078.000000\n",
       "mean         2.925454\n",
       "std          2.315684\n",
       "min          1.000000\n",
       "25%          1.000000\n",
       "50%          2.000000\n",
       "75%          4.000000\n",
       "max         18.000000\n",
       "Name: Number of Transactions_Pink, dtype: float64"
      ]
     },
     "execution_count": 70,
     "metadata": {},
     "output_type": "execute_result"
    }
   ],
   "source": [
    "plt.bar(customer['Age'],customer['Number of Transactions_Pink'])\n",
    "plt.title(\"Number of Transactions of different ages - Pink Cab\")\n",
    "plt.ylabel(\"Number of Transactions\")\n",
    "plt.xlabel(\"Age\")\n",
    "plt.show()\n",
    "customer['Number of Transactions_Pink'].describe()"
   ]
  },
  {
   "cell_type": "code",
   "execution_count": null,
   "metadata": {},
   "outputs": [],
   "source": []
  },
  {
   "cell_type": "code",
   "execution_count": 94,
   "metadata": {},
   "outputs": [
    {
     "data": {
      "image/png": "[encoded data removed]",
      "text/plain": [
       "<Figure size 1080x576 with 1 Axes>"
      ]
     },
     "metadata": {},
     "output_type": "display_data"
    }
   ],
   "source": [
    "# Average Transactions at each Age for both companies, and each company individually\n",
    "customer['Age'].value_counts()\n",
    "AgeVsTransactions=pd.crosstab(customer['Age'],customer['Number of Transactions'])\n",
    "AgeVsTransactions['mean']=AgeVsTransactions.mean(axis=1)\n",
    "\n",
    "AgeVsTransactionsPink=pd.crosstab(customer['Age'],customer['Number of Transactions_Pink'])\n",
    "AgeVsTransactions['mean_pink']=AgeVsTransactionsPink.mean(axis=1)\n",
    "\n",
    "AgeVsTransactionsYellow=pd.crosstab(customer['Age'],customer['Number of Transactions_Yellow'])\n",
    "AgeVsTransactions['mean_yellow']=AgeVsTransactionsYellow.mean(axis=1)\n",
    "AgeVsTransactions.reset_index(inplace=True)\n",
    "\n",
    "#Graph\n",
    "labels=['Both companies','Pink Cab','Yellow Cab']\n",
    "x=AgeVsTransactions['Age']\n",
    "y1=AgeVsTransactions['mean']\n",
    "y2=AgeVsTransactions['mean_pink']\n",
    "y3=AgeVsTransactions['mean_yellow']\n",
    "\n",
    "\n",
    "plt.plot(x,y1,label=\"Both Companies\",color=\"blue\")\n",
    "plt.plot(x,y2,label=\"Pink Cab\",color=\"red\")\n",
    "plt.plot(x,y3,label=\"Yellow Cab\",color=\"green\")\n",
    "plt.legend()\n",
    "plt.show()"
   ]
  },
  {
   "cell_type": "markdown",
   "metadata": {},
   "source": [
    "There is a big drop from age 40 to age 42. This is weird since the transition should be more of a smooth curve with decreasing transactions with an increase in age. Logically, this decrease is explained by increase in car ownership with better pay, or due to family needs. Also, reduced use of technology at older ages contributes to the decrease. However, the question remains, why the steep decrease?"
   ]
  },
  {
   "cell_type": "code",
   "execution_count": 93,
   "metadata": {},
   "outputs": [],
   "source": [
    "# Dates of Travel"
   ]
  },
  {
   "cell_type": "code",
   "execution_count": 104,
   "metadata": {},
   "outputs": [
    {
     "name": "stdout",
     "output_type": "stream",
     "text": [
      "Price Charges of Pink Cab\n",
      " count    84711.000000\n",
      "mean       310.800856\n",
      "std        181.995661\n",
      "min         15.600000\n",
      "25%        159.970000\n",
      "50%        298.060000\n",
      "75%        441.505000\n",
      "max       1623.480000\n",
      "Name: Price Charged, dtype: float64\n",
      "Price Charges of Yellow Cab\n",
      " count    274681.000000\n",
      "mean        458.181990\n",
      "std         288.386166\n",
      "min          20.730000\n",
      "25%         226.680000\n",
      "50%         425.060000\n",
      "75%         633.880000\n",
      "max        2048.030000\n",
      "Name: Price Charged, dtype: float64\n"
     ]
    }
   ],
   "source": [
    "# Prices Charged\n",
    "print(\"Price Charges of Pink Cab\" \"\\n\",pink['Price Charged'].describe(), \"\\n\")\n",
    "print(\"Price Charges of Yellow Cab\" \"\\n\",yellow['Price Charged'].describe())\n"
   ]
  },
  {
   "cell_type": "code",
   "execution_count": 103,
   "metadata": {},
   "outputs": [
    {
     "name": "stdout",
     "output_type": "stream",
     "text": [
      "Trip Costs of Pink Cab\n",
      " count    84711.000000\n",
      "mean       248.148682\n",
      "std        135.403345\n",
      "min         19.000000\n",
      "25%        131.868000\n",
      "50%        246.330000\n",
      "75%        360.180000\n",
      "max        576.000000\n",
      "Name: Cost of Trip, dtype: float64\n",
      "Trip Costs of Yellow Cab\n",
      " count    274681.000000\n",
      "mean        297.922004\n",
      "std         162.548986\n",
      "min          22.800000\n",
      "25%         158.400000\n",
      "50%         295.596000\n",
      "75%         432.432000\n",
      "max         691.200000\n",
      "Name: Cost of Trip, dtype: float64\n"
     ]
    }
   ],
   "source": [
    "#Cost of Trip\n",
    "print(\"Trip Costs of Pink Cab\" \"\\n\",pink['Cost of Trip'].describe())\n",
    "print(\"Trip Costs of Yellow Cab\" \"\\n\", yellow['Cost of Trip'].describe())"
   ]
  },
  {
   "cell_type": "markdown",
   "metadata": {},
   "source": [
    "On average, the yellow cab has higher price charges and higher trip costs, but it is still the one with higher transactions. This means that it's not costs that cause the low transactions for the pink cab business, but something else."
   ]
  },
  {
   "cell_type": "code",
   "execution_count": 111,
   "metadata": {},
   "outputs": [
    {
     "name": "stdout",
     "output_type": "stream",
     "text": [
      "Transaction ID        11129\n",
      "Customer ID           11129\n",
      "Payment_Mode          11129\n",
      "Gender                11129\n",
      "Age                   11129\n",
      "Income (USD/Month)    11129\n",
      "Date of Travel        11129\n",
      "Company               11129\n",
      "City                  11129\n",
      "KM Travelled          11129\n",
      "Price Charged         11129\n",
      "Cost of Trip          11129\n",
      "Population            11129\n",
      "Users                 11129\n",
      "discount              11129\n",
      "dtype: int64\n"
     ]
    },
    {
     "name": "stderr",
     "output_type": "stream",
     "text": [
      "/home/miano/anaconda3/lib/python3.6/site-packages/ipykernel_launcher.py:1: SettingWithCopyWarning: \n",
      "A value is trying to be set on a copy of a slice from a DataFrame.\n",
      "Try using .loc[row_indexer,col_indexer] = value instead\n",
      "\n",
      "See the caveats in the documentation: http://pandas.pydata.org/pandas-docs/stable/indexing.html#indexing-view-versus-copy\n",
      "  \"\"\"Entry point for launching an IPython kernel.\n",
      "/home/miano/anaconda3/lib/python3.6/site-packages/ipykernel_launcher.py:2: SettingWithCopyWarning: \n",
      "A value is trying to be set on a copy of a slice from a DataFrame.\n",
      "Try using .loc[row_indexer,col_indexer] = value instead\n",
      "\n",
      "See the caveats in the documentation: http://pandas.pydata.org/pandas-docs/stable/indexing.html#indexing-view-versus-copy\n",
      "  \n"
     ]
    },
    {
     "data": {
      "text/plain": [
       "Transaction ID        13690\n",
       "Customer ID           13690\n",
       "Payment_Mode          13690\n",
       "Gender                13690\n",
       "Age                   13690\n",
       "Income (USD/Month)    13690\n",
       "Date of Travel        13690\n",
       "Company               13690\n",
       "City                  13690\n",
       "KM Travelled          13690\n",
       "Price Charged         13690\n",
       "Cost of Trip          13690\n",
       "Population            13690\n",
       "Users                 13690\n",
       "discount              13690\n",
       "dtype: int64"
      ]
     },
     "execution_count": 111,
     "metadata": {},
     "output_type": "execute_result"
    }
   ],
   "source": [
    "pink['discount']=1-pink['Cost of Trip']/pink['Price Charged']\n",
    "yellow['discount']=1-yellow['Cost of Trip']/yellow['Price Charged']\n",
    "print(pink[pink['discount']<0].count())\n",
    "yellow[yellow['discount']<0].count()"
   ]
  },
  {
   "cell_type": "code",
   "execution_count": 112,
   "metadata": {},
   "outputs": [
    {
     "name": "stdout",
     "output_type": "stream",
     "text": [
      "0.13327667009007094\n",
      "0.04980322628794857\n"
     ]
    }
   ],
   "source": [
    "print(11290/84711)\n",
    "print(13680/274681)"
   ]
  },
  {
   "cell_type": "markdown",
   "metadata": {},
   "source": [
    "13.33% of pink cab transactions and 4.98% of yellow cab transactions have the cost of the trip greater than the price charged. These differences come as a result of time travelling vs time taken estimates due to traffic and other factors. This may be a factor that causes a low turnup for the pink cab as customers will tend to say that the price estimates differ hence will want a business which has price estimates almost equal to the actual costs. "
   ]
  },
  {
   "cell_type": "code",
   "execution_count": null,
   "metadata": {},
   "outputs": [],
   "source": []
  },
  {
   "cell_type": "code",
   "execution_count": null,
   "metadata": {},
   "outputs": [],
   "source": []
  },
  {
   "cell_type": "code",
   "execution_count": null,
   "metadata": {},
   "outputs": [],
   "source": []
  },
  {
   "cell_type": "code",
   "execution_count": 63,
   "metadata": {},
   "outputs": [
    {
     "data": {
      "text/plain": [
       "NEW YORK NY       99885\n",
       "CHICAGO IL        56625\n",
       "LOS ANGELES CA    48033\n",
       "WASHINGTON DC     43737\n",
       "BOSTON MA         29692\n",
       "SAN DIEGO CA      20488\n",
       "SILICON VALLEY     8519\n",
       "SEATTLE WA         7997\n",
       "ATLANTA GA         7557\n",
       "DALLAS TX          7017\n",
       "MIAMI FL           6454\n",
       "AUSTIN TX          4896\n",
       "ORANGE COUNTY      3982\n",
       "DENVER CO          3825\n",
       "NASHVILLE TN       3010\n",
       "SACRAMENTO CA      2367\n",
       "PHOENIX AZ         2064\n",
       "TUCSON AZ          1931\n",
       "PITTSBURGH PA      1313\n",
       "Name: City, dtype: int64"
      ]
     },
     "execution_count": 63,
     "metadata": {},
     "output_type": "execute_result"
    }
   ],
   "source": [
    "data['City'].value_counts()"
   ]
  },
  {
   "cell_type": "code",
   "execution_count": 64,
   "metadata": {},
   "outputs": [
    {
     "data": {
      "text/plain": [
       "CategoricalDtype(categories=['ATLANTA GA', 'AUSTIN TX', 'BOSTON MA', 'CHICAGO IL',\n",
       "                  'DALLAS TX', 'DENVER CO', 'LOS ANGELES CA', 'MIAMI FL',\n",
       "                  'NASHVILLE TN', 'NEW YORK NY', 'ORANGE COUNTY', 'PHOENIX AZ',\n",
       "                  'PITTSBURGH PA', 'SACRAMENTO CA', 'SAN DIEGO CA',\n",
       "                  'SEATTLE WA', 'SILICON VALLEY', 'TUCSON AZ',\n",
       "                  'WASHINGTON DC'],\n",
       "                 ordered=False)"
      ]
     },
     "execution_count": 64,
     "metadata": {},
     "output_type": "execute_result"
    }
   ],
   "source": [
    "data['City']=data['City'].astype(\"category\")\n",
    "data['City'].dtype"
   ]
  },
  {
   "cell_type": "code",
   "execution_count": 65,
   "metadata": {},
   "outputs": [
    {
     "data": {
      "text/plain": [
       "Index(['ATLANTA GA', 'AUSTIN TX', 'BOSTON MA', 'CHICAGO IL', 'DALLAS TX',\n",
       "       'DENVER CO', 'LOS ANGELES CA', 'MIAMI FL', 'NASHVILLE TN',\n",
       "       'NEW YORK NY', 'ORANGE COUNTY', 'PHOENIX AZ', 'PITTSBURGH PA',\n",
       "       'SACRAMENTO CA', 'SAN DIEGO CA', 'SEATTLE WA', 'SILICON VALLEY',\n",
       "       'TUCSON AZ', 'WASHINGTON DC'],\n",
       "      dtype='object')"
      ]
     },
     "execution_count": 65,
     "metadata": {},
     "output_type": "execute_result"
    }
   ],
   "source": [
    "data['City'].dtype.categories"
   ]
  },
  {
   "cell_type": "code",
   "execution_count": 66,
   "metadata": {},
   "outputs": [
    {
     "name": "stdout",
     "output_type": "stream",
     "text": [
      "Index(['ATLANTA GA', 'AUSTIN TX', 'BOSTON MA', 'CHICAGO IL', 'DALLAS TX',\n",
      "       'DENVER CO', 'LOS ANGELES CA', 'MIAMI FL', 'NASHVILLE TN',\n",
      "       'NEW YORK NY', 'ORANGE COUNTY', 'PHOENIX AZ', 'PITTSBURGH PA',\n",
      "       'SACRAMENTO CA', 'SAN DIEGO CA', 'SEATTLE WA', 'SILICON VALLEY',\n",
      "       'TUCSON AZ', 'WASHINGTON DC'],\n",
      "      dtype='object')\n"
     ]
    }
   ],
   "source": [
    "cityNames=data['City'].dtype.categories\n",
    "pink['City'].value_counts()\n",
    "yellow['City'].value_counts()\n",
    "print(cityNames)"
   ]
  },
  {
   "cell_type": "code",
   "execution_count": 121,
   "metadata": {},
   "outputs": [
    {
     "ename": "AttributeError",
     "evalue": "'NoneType' object has no attribute 'update'",
     "output_type": "error",
     "traceback": [
      "\u001b[0;31m---------------------------------------------------------------------------\u001b[0m",
      "\u001b[0;31mAttributeError\u001b[0m                            Traceback (most recent call last)",
      "\u001b[0;32m<ipython-input-121-7b4cdb7275e9>\u001b[0m in \u001b[0;36m<module>\u001b[0;34m()\u001b[0m\n\u001b[1;32m     14\u001b[0m \u001b[0max\u001b[0m\u001b[0;34m.\u001b[0m\u001b[0mset_ylabel\u001b[0m\u001b[0;34m(\u001b[0m\u001b[0;34m'Number'\u001b[0m\u001b[0;34m)\u001b[0m\u001b[0;34m\u001b[0m\u001b[0m\n\u001b[1;32m     15\u001b[0m \u001b[0max\u001b[0m\u001b[0;34m.\u001b[0m\u001b[0mset_title\u001b[0m\u001b[0;34m(\u001b[0m\u001b[0;34m'Distribution of Cities by each company'\u001b[0m\u001b[0;34m)\u001b[0m\u001b[0;34m\u001b[0m\u001b[0m\n\u001b[0;32m---> 16\u001b[0;31m \u001b[0max\u001b[0m\u001b[0;34m.\u001b[0m\u001b[0mset_xticks\u001b[0m\u001b[0;34m(\u001b[0m\u001b[0mlabels\u001b[0m\u001b[0;34m)\u001b[0m\u001b[0;34m\u001b[0m\u001b[0m\n\u001b[0m\u001b[1;32m     17\u001b[0m \u001b[0max\u001b[0m\u001b[0;34m.\u001b[0m\u001b[0mlegend\u001b[0m\u001b[0;34m(\u001b[0m\u001b[0;34m)\u001b[0m\u001b[0;34m\u001b[0m\u001b[0m\n\u001b[1;32m     18\u001b[0m \u001b[0;34m\u001b[0m\u001b[0m\n",
      "\u001b[0;32m~/anaconda3/lib/python3.6/site-packages/matplotlib/axes/_base.py\u001b[0m in \u001b[0;36mset_xticks\u001b[0;34m(self, ticks, minor)\u001b[0m\n\u001b[1;32m   3206\u001b[0m             \u001b[0mDefault\u001b[0m \u001b[0;32mis\u001b[0m\u001b[0;31m \u001b[0m\u001b[0;31m`\u001b[0m\u001b[0;31m`\u001b[0m\u001b[0;32mFalse\u001b[0m\u001b[0;31m`\u001b[0m\u001b[0;31m`\u001b[0m\u001b[0;34m.\u001b[0m\u001b[0;34m\u001b[0m\u001b[0m\n\u001b[1;32m   3207\u001b[0m         \"\"\"\n\u001b[0;32m-> 3208\u001b[0;31m         \u001b[0mret\u001b[0m \u001b[0;34m=\u001b[0m \u001b[0mself\u001b[0m\u001b[0;34m.\u001b[0m\u001b[0mxaxis\u001b[0m\u001b[0;34m.\u001b[0m\u001b[0mset_ticks\u001b[0m\u001b[0;34m(\u001b[0m\u001b[0mticks\u001b[0m\u001b[0;34m,\u001b[0m \u001b[0mminor\u001b[0m\u001b[0;34m=\u001b[0m\u001b[0mminor\u001b[0m\u001b[0;34m)\u001b[0m\u001b[0;34m\u001b[0m\u001b[0m\n\u001b[0m\u001b[1;32m   3209\u001b[0m         \u001b[0mself\u001b[0m\u001b[0;34m.\u001b[0m\u001b[0mstale\u001b[0m \u001b[0;34m=\u001b[0m \u001b[0;32mTrue\u001b[0m\u001b[0;34m\u001b[0m\u001b[0m\n\u001b[1;32m   3210\u001b[0m         \u001b[0;32mreturn\u001b[0m \u001b[0mret\u001b[0m\u001b[0;34m\u001b[0m\u001b[0m\n",
      "\u001b[0;32m~/anaconda3/lib/python3.6/site-packages/matplotlib/axis.py\u001b[0m in \u001b[0;36mset_ticks\u001b[0;34m(self, ticks, minor)\u001b[0m\n\u001b[1;32m   1676\u001b[0m         \"\"\"\n\u001b[1;32m   1677\u001b[0m         \u001b[0;31m# XXX if the user changes units, the information will be lost here\u001b[0m\u001b[0;34m\u001b[0m\u001b[0;34m\u001b[0m\u001b[0m\n\u001b[0;32m-> 1678\u001b[0;31m         \u001b[0mticks\u001b[0m \u001b[0;34m=\u001b[0m \u001b[0mself\u001b[0m\u001b[0;34m.\u001b[0m\u001b[0mconvert_units\u001b[0m\u001b[0;34m(\u001b[0m\u001b[0mticks\u001b[0m\u001b[0;34m)\u001b[0m\u001b[0;34m\u001b[0m\u001b[0m\n\u001b[0m\u001b[1;32m   1679\u001b[0m         \u001b[0;32mif\u001b[0m \u001b[0mlen\u001b[0m\u001b[0;34m(\u001b[0m\u001b[0mticks\u001b[0m\u001b[0;34m)\u001b[0m \u001b[0;34m>\u001b[0m \u001b[0;36m1\u001b[0m\u001b[0;34m:\u001b[0m\u001b[0;34m\u001b[0m\u001b[0m\n\u001b[1;32m   1680\u001b[0m             \u001b[0mxleft\u001b[0m\u001b[0;34m,\u001b[0m \u001b[0mxright\u001b[0m \u001b[0;34m=\u001b[0m \u001b[0mself\u001b[0m\u001b[0;34m.\u001b[0m\u001b[0mget_view_interval\u001b[0m\u001b[0;34m(\u001b[0m\u001b[0;34m)\u001b[0m\u001b[0;34m\u001b[0m\u001b[0m\n",
      "\u001b[0;32m~/anaconda3/lib/python3.6/site-packages/matplotlib/axis.py\u001b[0m in \u001b[0;36mconvert_units\u001b[0;34m(self, x)\u001b[0m\n\u001b[1;32m   1524\u001b[0m             \u001b[0;32mreturn\u001b[0m \u001b[0mx\u001b[0m\u001b[0;34m\u001b[0m\u001b[0m\n\u001b[1;32m   1525\u001b[0m \u001b[0;34m\u001b[0m\u001b[0m\n\u001b[0;32m-> 1526\u001b[0;31m         \u001b[0mret\u001b[0m \u001b[0;34m=\u001b[0m \u001b[0mself\u001b[0m\u001b[0;34m.\u001b[0m\u001b[0mconverter\u001b[0m\u001b[0;34m.\u001b[0m\u001b[0mconvert\u001b[0m\u001b[0;34m(\u001b[0m\u001b[0mx\u001b[0m\u001b[0;34m,\u001b[0m \u001b[0mself\u001b[0m\u001b[0;34m.\u001b[0m\u001b[0munits\u001b[0m\u001b[0;34m,\u001b[0m \u001b[0mself\u001b[0m\u001b[0;34m)\u001b[0m\u001b[0;34m\u001b[0m\u001b[0m\n\u001b[0m\u001b[1;32m   1527\u001b[0m         \u001b[0;32mreturn\u001b[0m \u001b[0mret\u001b[0m\u001b[0;34m\u001b[0m\u001b[0m\n\u001b[1;32m   1528\u001b[0m \u001b[0;34m\u001b[0m\u001b[0m\n",
      "\u001b[0;32m~/anaconda3/lib/python3.6/site-packages/matplotlib/category.py\u001b[0m in \u001b[0;36mconvert\u001b[0;34m(value, unit, axis)\u001b[0m\n\u001b[1;32m     63\u001b[0m \u001b[0;34m\u001b[0m\u001b[0m\n\u001b[1;32m     64\u001b[0m         \u001b[0;31m# force an update so it also does type checking\u001b[0m\u001b[0;34m\u001b[0m\u001b[0;34m\u001b[0m\u001b[0m\n\u001b[0;32m---> 65\u001b[0;31m         \u001b[0munit\u001b[0m\u001b[0;34m.\u001b[0m\u001b[0mupdate\u001b[0m\u001b[0;34m(\u001b[0m\u001b[0mvalues\u001b[0m\u001b[0;34m)\u001b[0m\u001b[0;34m\u001b[0m\u001b[0m\n\u001b[0m\u001b[1;32m     66\u001b[0m \u001b[0;34m\u001b[0m\u001b[0m\n\u001b[1;32m     67\u001b[0m         str2idx = np.vectorize(unit._mapping.__getitem__,\n",
      "\u001b[0;31mAttributeError\u001b[0m: 'NoneType' object has no attribute 'update'"
     ]
    },
    {
     "data": {
      "image/png": "[encoded data removed]",
      "text/plain": [
       "<Figure size 1080x576 with 1 Axes>"
      ]
     },
     "metadata": {},
     "output_type": "display_data"
    }
   ],
   "source": [
    "#City Distribution per Company\n",
    "y1=pink['City'].value_counts()\n",
    "y2=yellow['City'].value_counts()\n",
    "labels=['NEW YORK NY','CHICAGO IL','LOS ANGELES CA','WASHINGTON DC','BOSTON MA','SAN DIEGO CA','SILICON VALLEY','SEATTLE WA','ATLANTA GA','DALLAS TX','MIAMI FL','AUSTIN TX','ORANGE COUNTY','DENVER CO','NASHVILLE TN','SACRAMENTO CA','PHOENIX AZ','TUCSON AZ','PITTSBURGH PA']\n",
    "\n",
    "x = np.arange(len(labels))  # the label locations\n",
    "  # the width of the bars\n",
    "width=0.2\n",
    "fig, ax = plt.subplots()\n",
    "company1 = ax.bar(x-0.1, y1, width, label='Pink',color='red')\n",
    "company2= ax.bar(x+0.1 , y2, width, label='Yellow',color='green')\n",
    "\n",
    "# Add some text for labels, title and custom x-axis tick labels, etc.\n",
    "ax.set_ylabel('Number')\n",
    "ax.set_title('Distribution of Cities by each company')\n",
    "ax.set_xticks(labels)\n",
    "ax.legend()\n",
    "\n",
    "plt.show()"
   ]
  },
  {
   "cell_type": "code",
   "execution_count": null,
   "metadata": {},
   "outputs": [],
   "source": []
  },
  {
   "cell_type": "code",
   "execution_count": null,
   "metadata": {},
   "outputs": [],
   "source": []
  }
 ],
 "metadata": {
  "kernelspec": {
   "display_name": "Python 3",
   "language": "python",
   "name": "python3"
  },
  "language_info": {
   "codemirror_mode": {
    "name": "ipython",
    "version": 3
   },
   "file_extension": ".py",
   "mimetype": "text/x-python",
   "name": "python",
   "nbconvert_exporter": "python",
   "pygments_lexer": "ipython3",
   "version": "3.6.5"
  }
 },
 "nbformat": 4,
 "nbformat_minor": 2
}
